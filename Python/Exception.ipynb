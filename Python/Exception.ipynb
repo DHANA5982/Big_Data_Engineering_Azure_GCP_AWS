{
 "cells": [
  {
   "cell_type": "code",
   "execution_count": 5,
   "id": "a15db32e",
   "metadata": {},
   "outputs": [
    {
     "name": "stdout",
     "output_type": "stream",
     "text": [
      "0.6666666666666666\n"
     ]
    }
   ],
   "source": [
    "try:\n",
    "    a = int(input('Enter numerator value:'))\n",
    "    b = int(input('Enter denominator value:'))\n",
    "    print(a/b)\n",
    "except Exception as e:\n",
    "    print(f'{e} error raised. kindly give proper input.')\n",
    "    "
   ]
  },
  {
   "cell_type": "code",
   "execution_count": 10,
   "id": "df7ef237",
   "metadata": {},
   "outputs": [
    {
     "name": "stdout",
     "output_type": "stream",
     "text": [
      "2.0\n"
     ]
    }
   ],
   "source": [
    "try:\n",
    "    num = int(input(\"Enter a number:\"))\n",
    "    result = 10/num\n",
    "except Exception as e:\n",
    "    print(f'{e} error raised.')\n",
    "else:\n",
    "    print(f'{result}')"
   ]
  },
  {
   "cell_type": "code",
   "execution_count": 12,
   "id": "1a51096b",
   "metadata": {},
   "outputs": [
    {
     "name": "stdout",
     "output_type": "stream",
     "text": [
      "division by zero error raised.\n",
      "Execution complete.\n"
     ]
    }
   ],
   "source": [
    "try:\n",
    "    num = int(input(\"Enter a number:\"))\n",
    "    result = 10/num\n",
    "except Exception as e:\n",
    "    print(f'{e} error raised.')\n",
    "else:\n",
    "    print(f'{result}')\n",
    "finally:\n",
    "    print('Execution complete.')"
   ]
  },
  {
   "cell_type": "code",
   "execution_count": 22,
   "id": "55b1bc7d",
   "metadata": {},
   "outputs": [
    {
     "name": "stdout",
     "output_type": "stream",
     "text": [
      "everybody is a ganstar\n",
      "until see the monster monster\n",
      "song line from KGF\n",
      "\n",
      "file closed\n"
     ]
    }
   ],
   "source": [
    "## File handling and Exception handling\n",
    "\n",
    "try:\n",
    "    file_path = input('enter file path:')\n",
    "    file = open(file_path,'r')\n",
    "\n",
    "except Exception as e:\n",
    "    print(f'{e}')\n",
    "    \n",
    "else:    \n",
    "\n",
    "    print(file.read())\n",
    "\n",
    "finally:\n",
    "    if 'file' in locals() or not file.closed():\n",
    "        file.close()\n",
    "        print('\\nfile closed')"
   ]
  }
 ],
 "metadata": {
  "kernelspec": {
   "display_name": ".venv",
   "language": "python",
   "name": "python3"
  },
  "language_info": {
   "codemirror_mode": {
    "name": "ipython",
    "version": 3
   },
   "file_extension": ".py",
   "mimetype": "text/x-python",
   "name": "python",
   "nbconvert_exporter": "python",
   "pygments_lexer": "ipython3",
   "version": "3.13.1"
  }
 },
 "nbformat": 4,
 "nbformat_minor": 5
}
