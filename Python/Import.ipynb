{
 "cells": [
  {
   "cell_type": "code",
   "execution_count": 1,
   "id": "c3dc32f8",
   "metadata": {},
   "outputs": [
    {
     "name": "stdout",
     "output_type": "stream",
     "text": [
      "14.106735979665885\n",
      "3.141592653589793\n"
     ]
    }
   ],
   "source": [
    "from math import *\n",
    "\n",
    "print(sqrt(199))\n",
    "print(pi)"
   ]
  },
  {
   "cell_type": "code",
   "execution_count": 13,
   "id": "455d2378",
   "metadata": {},
   "outputs": [
    {
     "name": "stdout",
     "output_type": "stream",
     "text": [
      "30\n"
     ]
    }
   ],
   "source": [
    "from package.math import addition\n",
    "\n",
    "print(addition(10, 20))"
   ]
  },
  {
   "cell_type": "code",
   "execution_count": 14,
   "id": "eb55eb8a",
   "metadata": {},
   "outputs": [
    {
     "name": "stdout",
     "output_type": "stream",
     "text": [
      "array('i', [1, 2, 3, 4, 5])\n"
     ]
    }
   ],
   "source": [
    "import array\n",
    "\n",
    "arr = array.array('i', [1, 2, 3, 4, 5])\n",
    "print(arr)"
   ]
  },
  {
   "cell_type": "code",
   "execution_count": 17,
   "id": "6733619f",
   "metadata": {},
   "outputs": [
    {
     "name": "stdout",
     "output_type": "stream",
     "text": [
      "6\n",
      "4\n"
     ]
    }
   ],
   "source": [
    "import random\n",
    "\n",
    "print(random.randint(1, 10))\n",
    "print(random.choice([1, 2, 3, 4, 5, 6]))"
   ]
  },
  {
   "cell_type": "code",
   "execution_count": 18,
   "id": "9afaae23",
   "metadata": {},
   "outputs": [
    {
     "name": "stdout",
     "output_type": "stream",
     "text": [
      "d:\\Data Engineer\\Python\n"
     ]
    }
   ],
   "source": [
    "import os\n",
    "\n",
    "print(os.getcwd())"
   ]
  },
  {
   "cell_type": "code",
   "execution_count": null,
   "id": "2d57f44e",
   "metadata": {},
   "outputs": [],
   "source": [
    "# os.mkdir('test_dir')"
   ]
  },
  {
   "cell_type": "code",
   "execution_count": 21,
   "id": "841a848f",
   "metadata": {},
   "outputs": [],
   "source": [
    "import shutil\n",
    "\n",
    "# shutil.copyfile('sample.txt', 'duplicate_sample.txt')"
   ]
  },
  {
   "cell_type": "code",
   "execution_count": 23,
   "id": "a008eac2",
   "metadata": {},
   "outputs": [
    {
     "name": "stdout",
     "output_type": "stream",
     "text": [
      "{\"name\": \"dhana\", \"country\": \"india\"} <class 'str'>\n",
      "{'name': 'dhana', 'country': 'india'} <class 'dict'>\n"
     ]
    }
   ],
   "source": [
    "import json\n",
    "\n",
    "data = {'name': 'dhana', 'country': 'india'}\n",
    "\n",
    "json_str = json.dumps(data)\n",
    "print(json_str, type(json_str))\n",
    "\n",
    "parsed_data = json.loads(json_str)\n",
    "print(parsed_data, type(parsed_data))"
   ]
  },
  {
   "cell_type": "code",
   "execution_count": 24,
   "id": "4bd5e7aa",
   "metadata": {},
   "outputs": [
    {
     "name": "stdout",
     "output_type": "stream",
     "text": [
      "['name', 'country']\n",
      "['dhana', 'india']\n",
      "['millie', 'uk']\n"
     ]
    }
   ],
   "source": [
    "import csv\n",
    "\n",
    "with open('example.csv', mode= 'w', newline='') as file:\n",
    "    writer = csv.writer(file)\n",
    "    writer.writerow(['name', 'country'])\n",
    "    writer.writerow(['dhana', 'india'])\n",
    "    writer.writerow(['millie', 'uk'])\n",
    "\n",
    "with open('example.csv', mode = 'r') as file:\n",
    "    reader = csv.reader(file)\n",
    "    for row in reader:\n",
    "        print(row)"
   ]
  },
  {
   "cell_type": "code",
   "execution_count": 25,
   "id": "5e118e12",
   "metadata": {},
   "outputs": [
    {
     "name": "stdout",
     "output_type": "stream",
     "text": [
      "2025-07-06 20:11:38.328172\n",
      "2025-07-05 20:11:38.328172\n"
     ]
    }
   ],
   "source": [
    "from datetime import datetime, timedelta\n",
    "\n",
    "now = datetime.now()\n",
    "print(now)\n",
    "\n",
    "yesterday = now - timedelta(1)\n",
    "print(yesterday)"
   ]
  },
  {
   "cell_type": "code",
   "execution_count": 26,
   "id": "c4a57d41",
   "metadata": {},
   "outputs": [
    {
     "name": "stdout",
     "output_type": "stream",
     "text": [
      "1751829194.6569088\n",
      "1751829196.9788196\n"
     ]
    }
   ],
   "source": [
    "import time\n",
    "\n",
    "print(time.time())\n",
    "time.sleep(2)\n",
    "print(time.time())"
   ]
  },
  {
   "cell_type": "code",
   "execution_count": 52,
   "id": "e363f7f0",
   "metadata": {},
   "outputs": [
    {
     "name": "stdout",
     "output_type": "stream",
     "text": [
      "UniEssex.com\n"
     ]
    }
   ],
   "source": [
    "import re\n",
    "\n",
    "pattern = r'(?<=@)[a-zA-Z.-]*'\n",
    "text = 'sekar.dhana@UniEssex.com'\n",
    "match = re.search(pattern, text)\n",
    "print(match.group())"
   ]
  }
 ],
 "metadata": {
  "kernelspec": {
   "display_name": ".venv",
   "language": "python",
   "name": "python3"
  },
  "language_info": {
   "codemirror_mode": {
    "name": "ipython",
    "version": 3
   },
   "file_extension": ".py",
   "mimetype": "text/x-python",
   "name": "python",
   "nbconvert_exporter": "python",
   "pygments_lexer": "ipython3",
   "version": "3.13.1"
  }
 },
 "nbformat": 4,
 "nbformat_minor": 5
}
