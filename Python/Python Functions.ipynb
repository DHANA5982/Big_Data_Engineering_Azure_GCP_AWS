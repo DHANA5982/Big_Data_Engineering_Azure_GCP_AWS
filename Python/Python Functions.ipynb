{
 "cells": [
  {
   "cell_type": "markdown",
   "id": "d3dd378a",
   "metadata": {},
   "source": [
    "# Functions"
   ]
  },
  {
   "cell_type": "code",
   "execution_count": null,
   "id": "8203f3ba",
   "metadata": {},
   "outputs": [],
   "source": [
    "# Basic function\n",
    "\n",
    "def odd_or_even(num):\n",
    "    '''This function finds a number is odd or even.'''\n",
    "    if num%2==0:\n",
    "        print('The number is even.')\n",
    "    else:\n",
    "        print('The number is odd.')"
   ]
  },
  {
   "cell_type": "code",
   "execution_count": 3,
   "id": "98faf68c",
   "metadata": {},
   "outputs": [
    {
     "name": "stdout",
     "output_type": "stream",
     "text": [
      "The number is even.\n"
     ]
    }
   ],
   "source": [
    "odd_or_even(2)"
   ]
  },
  {
   "cell_type": "code",
   "execution_count": 6,
   "id": "0892c697",
   "metadata": {},
   "outputs": [],
   "source": [
    "def addition(a, b):\n",
    "    return a+b"
   ]
  },
  {
   "cell_type": "code",
   "execution_count": 9,
   "id": "dfff470c",
   "metadata": {},
   "outputs": [
    {
     "name": "stdout",
     "output_type": "stream",
     "text": [
      "3\n"
     ]
    }
   ],
   "source": [
    "print(addition(1,2))"
   ]
  },
  {
   "cell_type": "code",
   "execution_count": null,
   "id": "fe5c80a3",
   "metadata": {},
   "outputs": [],
   "source": [
    "# Default Parameter\n",
    "\n",
    "def greet(name='Guest'):\n",
    "    print(f'Hello {name}, glad to meet you.')"
   ]
  },
  {
   "cell_type": "code",
   "execution_count": 12,
   "id": "7f61e28e",
   "metadata": {},
   "outputs": [
    {
     "name": "stdout",
     "output_type": "stream",
     "text": [
      "Hello Dhanasekar, glad to meet you.\n"
     ]
    }
   ],
   "source": [
    "greet('Dhanasekar')"
   ]
  },
  {
   "cell_type": "code",
   "execution_count": 22,
   "id": "5b39c7de",
   "metadata": {},
   "outputs": [],
   "source": [
    "# Variable Length Arguments\n",
    "# Variable Keyword Arguments\n",
    "\n",
    "def Addition(*args):\n",
    "    sum = 0\n",
    "    for i in args:\n",
    "        sum += i\n",
    "    return sum"
   ]
  },
  {
   "cell_type": "code",
   "execution_count": 25,
   "id": "db769181",
   "metadata": {},
   "outputs": [
    {
     "name": "stdout",
     "output_type": "stream",
     "text": [
      "45\n"
     ]
    }
   ],
   "source": [
    "print(Addition(1, 2, 3, 4, 5, 6, 7, 8, 9))"
   ]
  },
  {
   "cell_type": "code",
   "execution_count": 32,
   "id": "2e1a5323",
   "metadata": {},
   "outputs": [],
   "source": [
    "def print_details(**kwargs):\n",
    "    for key, value in kwargs.items():\n",
    "        print(f'{key.title()}: {value.title()}')"
   ]
  },
  {
   "cell_type": "code",
   "execution_count": 33,
   "id": "f8d07f45",
   "metadata": {},
   "outputs": [
    {
     "name": "stdout",
     "output_type": "stream",
     "text": [
      "Name: Dhana\n",
      "Country: India\n",
      "Profession: Data Engineer\n"
     ]
    }
   ],
   "source": [
    "print_details(name = 'DHANA', country = 'India', profession = 'Data Engineer')"
   ]
  },
  {
   "cell_type": "markdown",
   "id": "066b0b88",
   "metadata": {},
   "source": [
    "## Examples"
   ]
  },
  {
   "cell_type": "code",
   "execution_count": null,
   "id": "a4d3c6ba",
   "metadata": {},
   "outputs": [],
   "source": [
    "# Temperature Conversion\n",
    "\n",
    "def convert_temperatures(temp, unit):\n",
    "    '''This function converts tempratures between Celsius to Fahrenheit.'''\n",
    "\n",
    "    # Celsius to Fahrenheit\n",
    "    if unit.upper()=='C':\n",
    "        return round((temp * 9/5) +  32,1) \n",
    "\n",
    "    # Fahrenheit to Celsius\n",
    "    elif unit.upper()=='F':\n",
    "        return round((temp - 32) * (5/9),1)\n",
    "    \n",
    "    else:\n",
    "        print('Give appropriate temperature value and unit between Celsius and Fahrenheit.')"
   ]
  },
  {
   "cell_type": "code",
   "execution_count": 44,
   "id": "a2c083ff",
   "metadata": {},
   "outputs": [
    {
     "name": "stdout",
     "output_type": "stream",
     "text": [
      "77.0\n",
      "36.7\n"
     ]
    }
   ],
   "source": [
    "print(convert_temperatures(25, 'c'))\n",
    "print(convert_temperatures(98, 'f'))"
   ]
  },
  {
   "cell_type": "code",
   "execution_count": 52,
   "id": "c0b80c95",
   "metadata": {},
   "outputs": [],
   "source": [
    "# Password Checker\n",
    "\n",
    "def strong_password(password):\n",
    "    '''This function checks whether a provided password strong or not.'''\n",
    "\n",
    "    if len(password) <= 8:\n",
    "        print('Kindly set password charactor more than 8.')\n",
    "        return False\n",
    "    \n",
    "    if not any(char.isdigit() for char in password):\n",
    "        print('Kindly include digits in your password.')\n",
    "        return False\n",
    "    \n",
    "    if not any(char.islower() for char in password):\n",
    "        print('Kindly use mix of lower and upper case letters.')\n",
    "        return False\n",
    "    \n",
    "    if not any(char.isupper() for char in password):\n",
    "        print('Kindly use mix of upper and lower case letters.')\n",
    "        return False\n",
    "    if not any(char in '!@#$%^&*()_+' for char in password):\n",
    "        print('Kindly include special charactors in your password.')\n",
    "        return False\n",
    "    else:\n",
    "        print('Strong Password.')"
   ]
  },
  {
   "cell_type": "code",
   "execution_count": 62,
   "id": "2a3dfc80",
   "metadata": {},
   "outputs": [
    {
     "name": "stdout",
     "output_type": "stream",
     "text": [
      "Kindly set password charactor more than 8.\n",
      "Kindly include digits in your password.\n",
      "Kindly use mix of upper and lower case letters.\n",
      "Kindly use mix of lower and upper case letters.\n",
      "Kindly include special charactors in your password.\n",
      "Strong Password.\n"
     ]
    }
   ],
   "source": [
    "strong_password('dhana')\n",
    "strong_password('dhanasekar')\n",
    "strong_password('2dhanasekar')\n",
    "strong_password('2DHANASEKAR')\n",
    "strong_password('2Dhanasekar')\n",
    "strong_password('2Dh@nasekar')\n"
   ]
  },
  {
   "cell_type": "code",
   "execution_count": null,
   "id": "4c81706b",
   "metadata": {},
   "outputs": [],
   "source": [
    "# Palindrome\n",
    "\n",
    "def is_palindrome(string):\n",
    "    '''This function checks whether a string is palindrome or not.'''\n",
    "\n",
    "    return string.lower().strip() == string[::-1].lower().strip()"
   ]
  },
  {
   "cell_type": "code",
   "execution_count": 66,
   "id": "a963e5f0",
   "metadata": {},
   "outputs": [
    {
     "name": "stdout",
     "output_type": "stream",
     "text": [
      "True\n",
      "False\n"
     ]
    }
   ],
   "source": [
    "print(is_palindrome('Dad'))\n",
    "print(is_palindrome('mad'))"
   ]
  },
  {
   "cell_type": "code",
   "execution_count": 71,
   "id": "db3915e2",
   "metadata": {},
   "outputs": [],
   "source": [
    "# Factorial using recursion\n",
    "\n",
    "def Factorial(n):\n",
    "    '''This function calculates the factorial value of give number using recursion method.'''\n",
    "    \n",
    "    if n == 0:\n",
    "        return 1\n",
    "    else:\n",
    "        return n * Factorial(n-1)"
   ]
  },
  {
   "cell_type": "code",
   "execution_count": 69,
   "id": "3ffc0319",
   "metadata": {},
   "outputs": [
    {
     "name": "stdout",
     "output_type": "stream",
     "text": [
      "1\n",
      "24\n",
      "720\n"
     ]
    }
   ],
   "source": [
    "print(Factorial(1))\n",
    "print(Factorial(4))\n",
    "print(Factorial(6))"
   ]
  },
  {
   "cell_type": "code",
   "execution_count": 83,
   "id": "bcc17a2a",
   "metadata": {},
   "outputs": [],
   "source": [
    "# Read a file and words frequency\n",
    "\n",
    "def count_word_frequency(file_path):\n",
    "    '''This function open a file and count unique words frequency.'''\n",
    "\n",
    "    word_count = {}\n",
    "    with open(file_path, 'r') as file:\n",
    "        for line in file:\n",
    "            words = line.split()\n",
    "            for word in words:\n",
    "                word = word.lower().strip(',.!?;:\"/\\\\')\n",
    "                word_count[word] = word_count.get(word, 0)+1\n",
    "\n",
    "    return word_count"
   ]
  },
  {
   "cell_type": "code",
   "execution_count": 85,
   "id": "fd1b911c",
   "metadata": {},
   "outputs": [
    {
     "name": "stdout",
     "output_type": "stream",
     "text": [
      "{'everybody': 1, 'is': 1, 'a': 1, 'ganstar': 1, 'until': 1, 'see': 1, 'the': 1, 'monster': 2, 'song': 1, 'line': 1, 'from': 1, 'kgf': 1}\n"
     ]
    }
   ],
   "source": [
    "print(count_word_frequency('sample.txt'))"
   ]
  },
  {
   "cell_type": "code",
   "execution_count": null,
   "id": "254d5182",
   "metadata": {},
   "outputs": [],
   "source": [
    "# Validate Email Address\n",
    "\n",
    "import re\n",
    "\n",
    "def is_valid_Email(email):\n",
    "    '''This function validates a email is correct'''\n",
    "    pattern = r'^[a-zA-Z0-9_.+-]+@[a-zA-Z0-9-]+\\.[a-zA-Z0-9-.]+$'\n",
    "    return re.match(pattern, email)"
   ]
  },
  {
   "cell_type": "code",
   "execution_count": 88,
   "id": "f1611ddd",
   "metadata": {},
   "outputs": [
    {
     "name": "stdout",
     "output_type": "stream",
     "text": [
      "True\n",
      "False\n"
     ]
    }
   ],
   "source": [
    "print(is_valid_Email('sekar.dhana5982@gmail.com'))\n",
    "print(is_valid_Email('utternnoi.sdfo.v'))"
   ]
  }
 ],
 "metadata": {
  "kernelspec": {
   "display_name": ".venv",
   "language": "python",
   "name": "python3"
  },
  "language_info": {
   "codemirror_mode": {
    "name": "ipython",
    "version": 3
   },
   "file_extension": ".py",
   "mimetype": "text/x-python",
   "name": "python",
   "nbconvert_exporter": "python",
   "pygments_lexer": "ipython3",
   "version": "3.13.1"
  }
 },
 "nbformat": 4,
 "nbformat_minor": 5
}
