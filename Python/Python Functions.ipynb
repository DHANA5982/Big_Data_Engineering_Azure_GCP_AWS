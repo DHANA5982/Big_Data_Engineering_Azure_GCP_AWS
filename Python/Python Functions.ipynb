{
 "cells": [
  {
   "cell_type": "markdown",
   "id": "d3dd378a",
   "metadata": {},
   "source": [
    "# Functions"
   ]
  },
  {
   "cell_type": "code",
   "execution_count": null,
   "id": "8203f3ba",
   "metadata": {},
   "outputs": [],
   "source": [
    "# Basic function\n",
    "\n",
    "def odd_or_even(num):\n",
    "    '''This function finds a number is odd or even.'''\n",
    "    if num%2==0:\n",
    "        print('The number is even.')\n",
    "    else:\n",
    "        print('The number is odd.')"
   ]
  },
  {
   "cell_type": "code",
   "execution_count": 3,
   "id": "98faf68c",
   "metadata": {},
   "outputs": [
    {
     "name": "stdout",
     "output_type": "stream",
     "text": [
      "The number is even.\n"
     ]
    }
   ],
   "source": [
    "odd_or_even(2)"
   ]
  },
  {
   "cell_type": "code",
   "execution_count": 6,
   "id": "0892c697",
   "metadata": {},
   "outputs": [],
   "source": [
    "def addition(a, b):\n",
    "    return a+b"
   ]
  },
  {
   "cell_type": "code",
   "execution_count": 9,
   "id": "dfff470c",
   "metadata": {},
   "outputs": [
    {
     "name": "stdout",
     "output_type": "stream",
     "text": [
      "3\n"
     ]
    }
   ],
   "source": [
    "print(addition(1,2))"
   ]
  },
  {
   "cell_type": "code",
   "execution_count": null,
   "id": "fe5c80a3",
   "metadata": {},
   "outputs": [],
   "source": [
    "# Default Parameter\n",
    "\n",
    "def greet(name='Guest'):\n",
    "    print(f'Hello {name}, glad to meet you.')"
   ]
  },
  {
   "cell_type": "code",
   "execution_count": 12,
   "id": "7f61e28e",
   "metadata": {},
   "outputs": [
    {
     "name": "stdout",
     "output_type": "stream",
     "text": [
      "Hello Dhanasekar, glad to meet you.\n"
     ]
    }
   ],
   "source": [
    "greet('Dhanasekar')"
   ]
  },
  {
   "cell_type": "code",
   "execution_count": 22,
   "id": "5b39c7de",
   "metadata": {},
   "outputs": [],
   "source": [
    "# Variable Length Arguments\n",
    "# Variable Keyword Arguments\n",
    "\n",
    "def Addition(*args):\n",
    "    sum = 0\n",
    "    for i in args:\n",
    "        sum += i\n",
    "    return sum"
   ]
  },
  {
   "cell_type": "code",
   "execution_count": 25,
   "id": "db769181",
   "metadata": {},
   "outputs": [
    {
     "name": "stdout",
     "output_type": "stream",
     "text": [
      "45\n"
     ]
    }
   ],
   "source": [
    "print(Addition(1, 2, 3, 4, 5, 6, 7, 8, 9))"
   ]
  },
  {
   "cell_type": "code",
   "execution_count": 32,
   "id": "2e1a5323",
   "metadata": {},
   "outputs": [],
   "source": [
    "def print_details(**kwargs):\n",
    "    for key, value in kwargs.items():\n",
    "        print(f'{key.title()}: {value.title()}')"
   ]
  },
  {
   "cell_type": "code",
   "execution_count": 33,
   "id": "f8d07f45",
   "metadata": {},
   "outputs": [
    {
     "name": "stdout",
     "output_type": "stream",
     "text": [
      "Name: Dhana\n",
      "Country: India\n",
      "Profession: Data Engineer\n"
     ]
    }
   ],
   "source": [
    "print_details(name = 'DHANA', country = 'India', profession = 'Data Engineer')"
   ]
  },
  {
   "cell_type": "code",
   "execution_count": null,
   "id": "a4d3c6ba",
   "metadata": {},
   "outputs": [],
   "source": []
  }
 ],
 "metadata": {
  "kernelspec": {
   "display_name": ".venv",
   "language": "python",
   "name": "python3"
  },
  "language_info": {
   "codemirror_mode": {
    "name": "ipython",
    "version": 3
   },
   "file_extension": ".py",
   "mimetype": "text/x-python",
   "name": "python",
   "nbconvert_exporter": "python",
   "pygments_lexer": "ipython3",
   "version": "3.13.1"
  }
 },
 "nbformat": 4,
 "nbformat_minor": 5
}
