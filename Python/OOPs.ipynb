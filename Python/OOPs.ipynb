{
 "cells": [
  {
   "cell_type": "markdown",
   "id": "e799d6d5",
   "metadata": {},
   "source": [
    "# Class"
   ]
  },
  {
   "cell_type": "code",
   "execution_count": 1,
   "id": "923c8635",
   "metadata": {},
   "outputs": [],
   "source": [
    "# simple car class to create object\n",
    "\n",
    "class car:\n",
    "    pass\n",
    "\n",
    "audi = car()\n",
    "bmw = car()"
   ]
  },
  {
   "cell_type": "code",
   "execution_count": 4,
   "id": "b644e4cb",
   "metadata": {},
   "outputs": [
    {
     "name": "stdout",
     "output_type": "stream",
     "text": [
      "<__main__.car object at 0x000001DD612E8980>\n",
      "4\n"
     ]
    }
   ],
   "source": [
    "print(audi)\n",
    "audi.window = 4\n",
    "print(audi.window)"
   ]
  },
  {
   "cell_type": "code",
   "execution_count": null,
   "id": "6cf98b47",
   "metadata": {},
   "outputs": [],
   "source": [
    "# Instance variables\n",
    "\n",
    "class dog():\n",
    "    ## constructor\n",
    "    ## initaliseing object with attributes\n",
    "    def __init__(self, name, owner):\n",
    "        self.name = name\n",
    "        self.owner = owner\n",
    "\n",
    "\n",
    "dog1 = dog('mickle', 'dhana')"
   ]
  },
  {
   "cell_type": "code",
   "execution_count": 7,
   "id": "af61d414",
   "metadata": {},
   "outputs": [
    {
     "name": "stdout",
     "output_type": "stream",
     "text": [
      "<__main__.dog object at 0x000001DD612E86E0>\n",
      "mickle\n",
      "dhana\n"
     ]
    }
   ],
   "source": [
    "print(dog1)\n",
    "print(dog1.name)\n",
    "print(dog1.owner)"
   ]
  },
  {
   "cell_type": "code",
   "execution_count": 8,
   "id": "ebb79d3a",
   "metadata": {},
   "outputs": [
    {
     "name": "stdout",
     "output_type": "stream",
     "text": [
      "rowdy baby\n",
      "karthi\n"
     ]
    }
   ],
   "source": [
    "dog2 = dog('rowdy baby', 'karthi')\n",
    "print(dog2.name)\n",
    "print(dog2.owner)"
   ]
  },
  {
   "cell_type": "code",
   "execution_count": 32,
   "id": "a239a2bd",
   "metadata": {},
   "outputs": [],
   "source": [
    "## Instance methods\n",
    "\n",
    "class cat:\n",
    "    def __init__(self, name, owner, typ):\n",
    "        self.name = name\n",
    "        self.owner = owner\n",
    "        self.typ = typ\n",
    "\n",
    "    def trait(self):\n",
    "        print(f'{self.name} is {self.typ}.')"
   ]
  },
  {
   "cell_type": "code",
   "execution_count": null,
   "id": "ef65e5d0",
   "metadata": {},
   "outputs": [
    {
     "name": "stdout",
     "output_type": "stream",
     "text": [
      "vettikili dhana\n",
      "shiny karthi\n",
      "sevalai amma \n",
      "\n",
      "vettikili is sensitive.\n",
      "shiny is lazy.\n",
      "sevalai is playful.\n"
     ]
    }
   ],
   "source": [
    "cat1 = cat('vettikili', 'dhana', 'sensitive')\n",
    "cat2 = cat('shiny', 'karthi', 'lazy')\n",
    "cat3 = cat('sevalai', 'amma', 'playful')\n",
    " \n",
    "print(cat1.name, cat1.owner)\n",
    "print(cat2.name, cat2.owner)\n",
    "print(cat3.name, cat3.owner, '\\n')\n",
    "\n",
    "cat1.trait()\n",
    "cat2.trait()\n",
    "cat3.trait()"
   ]
  },
  {
   "cell_type": "code",
   "execution_count": 44,
   "id": "7f10b6f2",
   "metadata": {},
   "outputs": [],
   "source": [
    "# Bank Account\n",
    "# Define a class for bank account \n",
    "\n",
    "class BankAccount():\n",
    "    def __init__(self, owner, balance = 0):\n",
    "        self.owner = owner\n",
    "        self.balance = balance\n",
    "        print(f'Account created with initial balance of {self.balance}')\n",
    "\n",
    "    def deposit(self, amount):\n",
    "        self.balance += amount\n",
    "        print(f'{amount} is deposited. New balance is {self.balance}')\n",
    "\n",
    "    def withdraw(self, amount):\n",
    "        if amount > self.balance:\n",
    "            print('Insufficient balance.')\n",
    "        else:\n",
    "            self.balance -= amount\n",
    "            print(f'{amount} is withdrawn. New balance is {self.balance}')\n",
    "    \n",
    "    def get_balance(self):\n",
    "        return self.balance"
   ]
  },
  {
   "cell_type": "code",
   "execution_count": 47,
   "id": "ef371347",
   "metadata": {},
   "outputs": [
    {
     "name": "stdout",
     "output_type": "stream",
     "text": [
      "Account created with initial balance of 5000\n"
     ]
    }
   ],
   "source": [
    "# Create a bank account\n",
    "\n",
    "account1 = BankAccount('dhana', 5000)"
   ]
  },
  {
   "cell_type": "code",
   "execution_count": 48,
   "id": "cdbb90e7",
   "metadata": {},
   "outputs": [
    {
     "name": "stdout",
     "output_type": "stream",
     "text": [
      "2000 is deposited. New balance is 7000\n"
     ]
    }
   ],
   "source": [
    "# call instance methods\n",
    "\n",
    "account1.deposit(2000)"
   ]
  },
  {
   "cell_type": "code",
   "execution_count": 49,
   "id": "f978f391",
   "metadata": {},
   "outputs": [
    {
     "name": "stdout",
     "output_type": "stream",
     "text": [
      "500 is withdrawn. New balance is 6500\n"
     ]
    }
   ],
   "source": [
    "account1.withdraw(500)"
   ]
  },
  {
   "cell_type": "code",
   "execution_count": 50,
   "id": "884a93a7",
   "metadata": {},
   "outputs": [
    {
     "name": "stdout",
     "output_type": "stream",
     "text": [
      "6500\n"
     ]
    }
   ],
   "source": [
    "print(account1.get_balance())"
   ]
  },
  {
   "cell_type": "markdown",
   "id": "1c0bd101",
   "metadata": {},
   "source": [
    "# Inheritance"
   ]
  },
  {
   "cell_type": "code",
   "execution_count": 12,
   "id": "519b1644",
   "metadata": {},
   "outputs": [],
   "source": [
    "class car():\n",
    "    def __init__(self, cylinder, horsepower, enginetype):\n",
    "        self.cylinder = cylinder\n",
    "        self.horsepower = horsepower\n",
    "        self.enginetype = enginetype\n",
    "    \n",
    "    def drive(self):\n",
    "        print(f'You are driving a {self.enginetype} car.')"
   ]
  },
  {
   "cell_type": "code",
   "execution_count": 13,
   "id": "09c1dfb0",
   "metadata": {},
   "outputs": [
    {
     "name": "stdout",
     "output_type": "stream",
     "text": [
      "You are driving a Petrol car.\n"
     ]
    }
   ],
   "source": [
    "car1 = car(8, 200, 'Petrol')\n",
    "car1.drive()"
   ]
  },
  {
   "cell_type": "code",
   "execution_count": 18,
   "id": "1b32eb71",
   "metadata": {},
   "outputs": [],
   "source": [
    "# Single inheritance\n",
    " \n",
    "class Tesla(car):\n",
    "    def __init__(self, cylinder, horsepower, enginetype, is_selfdriving):\n",
    "        super().__init__(cylinder, horsepower, enginetype)\n",
    "        self.is_selfdriving = is_selfdriving\n",
    "\n",
    "    def selfdriving(self):\n",
    "        print(f'Tesla supports selfdriving : {self.is_selfdriving}') "
   ]
  },
  {
   "cell_type": "code",
   "execution_count": 19,
   "id": "d4698e3d",
   "metadata": {},
   "outputs": [
    {
     "name": "stdout",
     "output_type": "stream",
     "text": [
      "Tesla supports selfdriving : True\n",
      "You are driving a EV car.\n"
     ]
    }
   ],
   "source": [
    "tesla1 = Tesla(8, 100, 'EV', True)\n",
    "tesla1.selfdriving()\n",
    "tesla1.drive()"
   ]
  },
  {
   "cell_type": "code",
   "execution_count": 28,
   "id": "0c821594",
   "metadata": {},
   "outputs": [],
   "source": [
    "# Multiple inheritance\n",
    "\n",
    "# parent class 1\n",
    "class Animal():\n",
    "    def __init__(self, name):\n",
    "        self.name = name\n",
    "\n",
    "    def call(self):\n",
    "        print(f'Call this animal with this name {self.name}')\n",
    "\n",
    "# parent class 2\n",
    "class Pet():\n",
    "    def __init__(self,owner):\n",
    "        self.owner = owner\n",
    "\n",
    "# child class\n",
    "class Dog(Animal, Pet):\n",
    "    def __init__(self, name, owner):\n",
    "        Animal.__init__(self, name)\n",
    "        Pet.__init__(self, owner)\n",
    "\n",
    "    def bark(self):\n",
    "        print(f'{self.name} says woof.')"
   ]
  },
  {
   "cell_type": "code",
   "execution_count": 30,
   "id": "bbb48d0c",
   "metadata": {},
   "outputs": [
    {
     "name": "stdout",
     "output_type": "stream",
     "text": [
      "Thomas says woof.\n",
      "Call this animal with this name Thomas\n",
      "Appa\n"
     ]
    }
   ],
   "source": [
    "dog1 = Dog('Thomas', 'Appa')\n",
    "dog1.bark()\n",
    "dog1.call()\n",
    "print(dog1.owner)"
   ]
  },
  {
   "cell_type": "markdown",
   "id": "bd574a14",
   "metadata": {},
   "source": [
    "# Polymorphism"
   ]
  },
  {
   "cell_type": "code",
   "execution_count": 31,
   "id": "9664172c",
   "metadata": {},
   "outputs": [],
   "source": [
    "# Method overriding\n",
    "\n",
    "# parent class - base class\n",
    "class Animal:\n",
    "    def speak(self):\n",
    "        print('Sound of the animal')\n",
    "\n",
    "# child class - derived class\n",
    "class Dog(Animal):\n",
    "    def speak(self):\n",
    "        print('woof')\n",
    "\n",
    "# child class - derived class\n",
    "class Cat(Animal):\n",
    "    def speak(self):\n",
    "        print('Meow')"
   ]
  },
  {
   "cell_type": "code",
   "execution_count": 33,
   "id": "8c4422fe",
   "metadata": {},
   "outputs": [
    {
     "name": "stdout",
     "output_type": "stream",
     "text": [
      "woof\n",
      "Meow\n",
      "Sound of the animal\n"
     ]
    }
   ],
   "source": [
    "animal1 = Animal()\n",
    "dog1 = Dog()\n",
    "cat1 = Cat()\n",
    "dog1.speak()\n",
    "cat1.speak()\n",
    "animal1.speak()"
   ]
  },
  {
   "cell_type": "code",
   "execution_count": 45,
   "id": "a49909ab",
   "metadata": {},
   "outputs": [
    {
     "name": "stdout",
     "output_type": "stream",
     "text": [
      "woof\n"
     ]
    }
   ],
   "source": [
    "# Polymorphism with functions and methods\n",
    "\n",
    "def animal_speak(animal):\n",
    "    animal.speak()\n",
    "\n",
    "animal_speak(dog1)"
   ]
  },
  {
   "cell_type": "code",
   "execution_count": 40,
   "id": "a92f3aed",
   "metadata": {},
   "outputs": [],
   "source": [
    "# parent class\n",
    "class Shape:\n",
    "    def area(self):\n",
    "        print('The area of a figure')\n",
    "\n",
    "# child class\n",
    "class Rectangle(Shape):\n",
    "    def __init__(self, width, height):\n",
    "        self.width = width\n",
    "        self.height = height\n",
    "\n",
    "    def area(self):\n",
    "        return self.width * self.height\n",
    "\n",
    "# child class\n",
    "class Circle(Shape):\n",
    "    def __init__(self, radius):\n",
    "        self.radius = radius\n",
    "\n",
    "    def area(self):\n",
    "        return 3.14 * self.radius * self.radius\n",
    "\n",
    "# Function\n",
    "def print_area(shape):\n",
    "    print(f'The area is {round(shape.area(), 2)}.')"
   ]
  },
  {
   "cell_type": "code",
   "execution_count": 41,
   "id": "df303abe",
   "metadata": {},
   "outputs": [
    {
     "name": "stdout",
     "output_type": "stream",
     "text": [
      "The area is 20.\n",
      "The area is 28.26.\n"
     ]
    }
   ],
   "source": [
    "rectangle = Rectangle(4, 5)\n",
    "circle = Circle(3)\n",
    "\n",
    "print_area(rectangle)\n",
    "print_area(circle)"
   ]
  },
  {
   "cell_type": "code",
   "execution_count": 43,
   "id": "2dc88324",
   "metadata": {},
   "outputs": [],
   "source": [
    "# Polymorphism with abstract parent class\n",
    "\n",
    "from abc import ABC, abstractmethod\n",
    "\n",
    "# parent class\n",
    "class Vehicle(ABC):\n",
    "    @abstractmethod\n",
    "    def start_engine(self):\n",
    "        pass\n",
    "\n",
    "# child class\n",
    "class Car(Vehicle):\n",
    "    def start_engine(self):\n",
    "        print('Car engine started.')\n",
    "\n",
    "# child class\n",
    "class Motorcycle(Vehicle):\n",
    "    def start_engine(self):\n",
    "        print('Motorcycle engine started.')\n",
    "\n",
    "# function\n",
    "def start_vehicle(vehicle):\n",
    "    vehicle.start_engine()"
   ]
  },
  {
   "cell_type": "code",
   "execution_count": 44,
   "id": "44f1de4e",
   "metadata": {},
   "outputs": [
    {
     "name": "stdout",
     "output_type": "stream",
     "text": [
      "Car engine started.\n",
      "Motorcycle engine started.\n"
     ]
    }
   ],
   "source": [
    "car = Car()\n",
    "motorcycle = Motorcycle()\n",
    "\n",
    "start_vehicle(car)\n",
    "start_vehicle(motorcycle)"
   ]
  },
  {
   "cell_type": "code",
   "execution_count": null,
   "id": "027af47f",
   "metadata": {},
   "outputs": [],
   "source": []
  }
 ],
 "metadata": {
  "kernelspec": {
   "display_name": ".venv",
   "language": "python",
   "name": "python3"
  },
  "language_info": {
   "codemirror_mode": {
    "name": "ipython",
    "version": 3
   },
   "file_extension": ".py",
   "mimetype": "text/x-python",
   "name": "python",
   "nbconvert_exporter": "python",
   "pygments_lexer": "ipython3",
   "version": "3.13.1"
  }
 },
 "nbformat": 4,
 "nbformat_minor": 5
}
