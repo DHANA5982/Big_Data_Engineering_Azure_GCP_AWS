{
 "cells": [
  {
   "cell_type": "markdown",
   "id": "181548b1",
   "metadata": {},
   "source": [
    "# Iterators"
   ]
  },
  {
   "cell_type": "code",
   "execution_count": 9,
   "id": "4e32daf1",
   "metadata": {},
   "outputs": [
    {
     "name": "stdout",
     "output_type": "stream",
     "text": [
      "<class 'list_iterator'>\n"
     ]
    }
   ],
   "source": [
    "my_list = [0, 1, 2, 3, 4, 5, 6]\n",
    "iterator = iter(my_list)\n",
    "print(type(iterator))"
   ]
  },
  {
   "cell_type": "code",
   "execution_count": 2,
   "id": "e4bda6bb",
   "metadata": {},
   "outputs": [
    {
     "data": {
      "text/plain": [
       "<list_iterator at 0x1b2ecbbec50>"
      ]
     },
     "execution_count": 2,
     "metadata": {},
     "output_type": "execute_result"
    }
   ],
   "source": [
    "iterator"
   ]
  },
  {
   "cell_type": "code",
   "execution_count": 3,
   "id": "0a6374f9",
   "metadata": {},
   "outputs": [
    {
     "name": "stdout",
     "output_type": "stream",
     "text": [
      "0\n",
      "1\n",
      "2\n",
      "3\n",
      "4\n",
      "5\n",
      "6\n"
     ]
    }
   ],
   "source": [
    "for i in iterator:\n",
    "    print(i)"
   ]
  },
  {
   "cell_type": "code",
   "execution_count": 12,
   "id": "659ea382",
   "metadata": {},
   "outputs": [
    {
     "data": {
      "text/plain": [
       "2"
      ]
     },
     "execution_count": 12,
     "metadata": {},
     "output_type": "execute_result"
    }
   ],
   "source": [
    "next(iterator)"
   ]
  },
  {
   "cell_type": "code",
   "execution_count": 27,
   "id": "72efcd4e",
   "metadata": {},
   "outputs": [],
   "source": [
    "iterator = iter(my_list)"
   ]
  },
  {
   "cell_type": "code",
   "execution_count": 26,
   "id": "bf658867",
   "metadata": {},
   "outputs": [
    {
     "name": "stdout",
     "output_type": "stream",
     "text": [
      "There are no elements in the iterator\n"
     ]
    }
   ],
   "source": [
    "try: \n",
    "    print(next(iterator))\n",
    "except Exception as e:\n",
    "    print('There are no elements in the iterator')"
   ]
  },
  {
   "cell_type": "markdown",
   "id": "9fb1077f",
   "metadata": {},
   "source": [
    "# Generators"
   ]
  },
  {
   "cell_type": "code",
   "execution_count": 28,
   "id": "231d49a4",
   "metadata": {},
   "outputs": [
    {
     "name": "stdout",
     "output_type": "stream",
     "text": [
      "0\n",
      "1\n",
      "4\n"
     ]
    }
   ],
   "source": [
    "def square(n):\n",
    "    for i in range(n):\n",
    "        yield i**2\n",
    "\n",
    "for i in square(3):\n",
    "    print(i)"
   ]
  },
  {
   "cell_type": "code",
   "execution_count": 29,
   "id": "7afe58f0",
   "metadata": {},
   "outputs": [
    {
     "data": {
      "text/plain": [
       "0"
      ]
     },
     "execution_count": 29,
     "metadata": {},
     "output_type": "execute_result"
    }
   ],
   "source": [
    "next(square(5))"
   ]
  },
  {
   "cell_type": "code",
   "execution_count": 30,
   "id": "a70da3b0",
   "metadata": {},
   "outputs": [],
   "source": [
    "def generator():\n",
    "    yield 1\n",
    "    yield 2\n",
    "    yield 3"
   ]
  },
  {
   "cell_type": "code",
   "execution_count": 31,
   "id": "42a177d1",
   "metadata": {},
   "outputs": [
    {
     "data": {
      "text/plain": [
       "1"
      ]
     },
     "execution_count": 31,
     "metadata": {},
     "output_type": "execute_result"
    }
   ],
   "source": [
    "next(generator())"
   ]
  },
  {
   "cell_type": "code",
   "execution_count": 32,
   "id": "9f8cbef7",
   "metadata": {},
   "outputs": [],
   "source": [
    "def read_large_file(file_path):\n",
    "    with open(file_path, 'r') as file:\n",
    "        for line in file:\n",
    "            yield line"
   ]
  },
  {
   "cell_type": "code",
   "execution_count": 36,
   "id": "856db42f",
   "metadata": {},
   "outputs": [
    {
     "name": "stdout",
     "output_type": "stream",
     "text": [
      "Maanguyile poonguyile\n",
      "\n",
      "sethi onnu kelu\n",
      "\n",
      "una mazhiyida \n",
      "\n",
      "thedi varum naalu\n",
      "\n",
      "yentha naalu\n",
      "\n",
      "Muthu muthu kannala\n",
      "\n",
      "naan suthi vantha pinnala\n"
     ]
    }
   ],
   "source": [
    "for line in read_large_file('large_file.txt'):\n",
    "    print(line)"
   ]
  },
  {
   "cell_type": "markdown",
   "id": "4f3e99e0",
   "metadata": {},
   "source": [
    "# Decorators"
   ]
  },
  {
   "cell_type": "code",
   "execution_count": 43,
   "id": "3069b4dc",
   "metadata": {},
   "outputs": [],
   "source": [
    "# Function Copy\n",
    "\n",
    "def welcome():\n",
    "    print('Welcome to the Maldivas! Enjoy your vacation with complimentary breakfast everyday.')"
   ]
  },
  {
   "cell_type": "code",
   "execution_count": 44,
   "id": "1ee0f7c1",
   "metadata": {},
   "outputs": [
    {
     "name": "stdout",
     "output_type": "stream",
     "text": [
      "Welcome to the Maldivas! Enjoy your vacation with complimentary breakfast everyday.\n"
     ]
    }
   ],
   "source": [
    "welcome()"
   ]
  },
  {
   "cell_type": "code",
   "execution_count": 45,
   "id": "01596d19",
   "metadata": {},
   "outputs": [
    {
     "name": "stdout",
     "output_type": "stream",
     "text": [
      "Welcome to the Maldivas! Enjoy your vacation with complimentary breakfast everyday.\n"
     ]
    }
   ],
   "source": [
    "wel = welcome\n",
    "wel()"
   ]
  },
  {
   "cell_type": "code",
   "execution_count": 46,
   "id": "ad404165",
   "metadata": {},
   "outputs": [
    {
     "name": "stdout",
     "output_type": "stream",
     "text": [
      "Welcome to the Maldivas! Enjoy your vacation with complimentary breakfast everyday.\n"
     ]
    }
   ],
   "source": [
    "del welcome\n",
    "wel()"
   ]
  },
  {
   "cell_type": "code",
   "execution_count": null,
   "id": "b9114686",
   "metadata": {},
   "outputs": [],
   "source": [
    "# Clossures function\n",
    "\n",
    "def main_welcome():\n",
    "    \n",
    "    msg = 'Greetings.'\n",
    "\n",
    "    def sub_welcome():\n",
    "\n",
    "        print(msg)\n",
    "        \n",
    "        print('Welcome to my paradise.')\n",
    "\n",
    "        print('Let\\'s have fun.')\n",
    "    \n",
    "    return sub_welcome()"
   ]
  },
  {
   "cell_type": "code",
   "execution_count": 57,
   "id": "9de5a74e",
   "metadata": {},
   "outputs": [
    {
     "name": "stdout",
     "output_type": "stream",
     "text": [
      "Greetings\n",
      "Welcome to my paradise.\n",
      "Let's have fun.\n"
     ]
    }
   ],
   "source": [
    "main_welcome()"
   ]
  },
  {
   "cell_type": "code",
   "execution_count": 59,
   "id": "46d7cf9d",
   "metadata": {},
   "outputs": [],
   "source": [
    "def welcome(func):\n",
    "    \n",
    "    def sub_welcome():\n",
    "        \n",
    "        print('Welcome to my paradise.')\n",
    "\n",
    "        func('It\\'s greate to have you here.')\n",
    "\n",
    "        print('Let\\'s have fun.')\n",
    "    \n",
    "    return sub_welcome()"
   ]
  },
  {
   "cell_type": "code",
   "execution_count": 60,
   "id": "1487ea36",
   "metadata": {},
   "outputs": [
    {
     "name": "stdout",
     "output_type": "stream",
     "text": [
      "Welcome to my paradise.\n",
      "It's greate to have you here.\n",
      "Let's have fun.\n"
     ]
    }
   ],
   "source": [
    "welcome(print)"
   ]
  },
  {
   "cell_type": "code",
   "execution_count": 61,
   "id": "ec2716d2",
   "metadata": {},
   "outputs": [],
   "source": [
    "# Decorator\n",
    "\n",
    "def main_welcome(func):\n",
    "    \n",
    "    def sub_welcome():\n",
    "\n",
    "        print('Welcome to my paradise.')\n",
    "\n",
    "        func()\n",
    "\n",
    "        print('Let\\'s have fun.')\n",
    "    \n",
    "    return sub_welcome()"
   ]
  },
  {
   "cell_type": "code",
   "execution_count": 62,
   "id": "6a889911",
   "metadata": {},
   "outputs": [],
   "source": [
    "def greeting():\n",
    "    print('Hi there!')"
   ]
  },
  {
   "cell_type": "code",
   "execution_count": 63,
   "id": "07f88884",
   "metadata": {},
   "outputs": [
    {
     "name": "stdout",
     "output_type": "stream",
     "text": [
      "Hi there!\n"
     ]
    }
   ],
   "source": [
    "greeting()"
   ]
  },
  {
   "cell_type": "code",
   "execution_count": 64,
   "id": "72a0b9af",
   "metadata": {},
   "outputs": [
    {
     "name": "stdout",
     "output_type": "stream",
     "text": [
      "Welcome to my paradise.\n",
      "Hi there!\n",
      "Let's have fun.\n"
     ]
    }
   ],
   "source": [
    "main_welcome(greeting)"
   ]
  },
  {
   "cell_type": "code",
   "execution_count": 66,
   "id": "5742e7cf",
   "metadata": {},
   "outputs": [
    {
     "name": "stdout",
     "output_type": "stream",
     "text": [
      "Welcome to my paradise.\n",
      "Hi there!\n",
      "Let's have fun.\n"
     ]
    }
   ],
   "source": [
    "@main_welcome\n",
    "def greeting():\n",
    "    print('Hi there!')"
   ]
  },
  {
   "cell_type": "code",
   "execution_count": 67,
   "id": "53bfff8c",
   "metadata": {},
   "outputs": [],
   "source": [
    "# Decorator\n",
    "\n",
    "def my_decorator(func):\n",
    "    def wrapper():\n",
    "        print('first message inside sub function.')\n",
    "        func()\n",
    "        print('second message inside sub function.')\n",
    "    return wrapper"
   ]
  },
  {
   "cell_type": "code",
   "execution_count": 75,
   "id": "26a237c8",
   "metadata": {},
   "outputs": [],
   "source": [
    "@my_decorator\n",
    "def say_hello():\n",
    "    print('hello, this message from another function.')"
   ]
  },
  {
   "cell_type": "code",
   "execution_count": 76,
   "id": "74e0ecb1",
   "metadata": {},
   "outputs": [
    {
     "name": "stdout",
     "output_type": "stream",
     "text": [
      "first message inside sub function.\n",
      "hello, this message from another function.\n",
      "second message inside sub function.\n"
     ]
    }
   ],
   "source": [
    "say_hello()"
   ]
  },
  {
   "cell_type": "code",
   "execution_count": 80,
   "id": "93ce1872",
   "metadata": {},
   "outputs": [],
   "source": [
    "# Decorator\n",
    "\n",
    "def repeat(n):\n",
    "    def decorator(func):\n",
    "        def wrapper(*args, **kwargs):\n",
    "            for _ in range(n):\n",
    "                func(*args, **kwargs)\n",
    "        return wrapper\n",
    "    return decorator"
   ]
  },
  {
   "cell_type": "code",
   "execution_count": 83,
   "id": "d0afa04b",
   "metadata": {},
   "outputs": [],
   "source": [
    "@repeat(3)\n",
    "def say_hello():\n",
    "    print('hello')"
   ]
  },
  {
   "cell_type": "code",
   "execution_count": 84,
   "id": "668c4b1d",
   "metadata": {},
   "outputs": [
    {
     "name": "stdout",
     "output_type": "stream",
     "text": [
      "hello\n",
      "hello\n",
      "hello\n"
     ]
    }
   ],
   "source": [
    "say_hello()"
   ]
  },
  {
   "cell_type": "code",
   "execution_count": null,
   "id": "81c6901c",
   "metadata": {},
   "outputs": [],
   "source": []
  }
 ],
 "metadata": {
  "kernelspec": {
   "display_name": ".venv",
   "language": "python",
   "name": "python3"
  },
  "language_info": {
   "codemirror_mode": {
    "name": "ipython",
    "version": 3
   },
   "file_extension": ".py",
   "mimetype": "text/x-python",
   "name": "python",
   "nbconvert_exporter": "python",
   "pygments_lexer": "ipython3",
   "version": "3.13.1"
  }
 },
 "nbformat": 4,
 "nbformat_minor": 5
}
