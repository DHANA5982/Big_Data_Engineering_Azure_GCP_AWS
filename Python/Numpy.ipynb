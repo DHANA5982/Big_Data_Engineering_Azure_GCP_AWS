{
 "cells": [
  {
   "cell_type": "markdown",
   "id": "fae09476",
   "metadata": {},
   "source": [
    "# Numpy"
   ]
  },
  {
   "cell_type": "code",
   "execution_count": null,
   "id": "7cf28d93",
   "metadata": {},
   "outputs": [
    {
     "name": "stdout",
     "output_type": "stream",
     "text": [
      "[1 3 5 7 9]\n",
      "<class 'numpy.ndarray'>\n",
      "(5,)\n"
     ]
    }
   ],
   "source": [
    "# Basics\n",
    "\n",
    "import numpy as np\n",
    "\n",
    "arr1 = np.array([1, 3, 5, 7, 9])\n",
    "print(arr1)\n",
    "print(type(arr1))\n",
    "print(arr1.shape)"
   ]
  },
  {
   "cell_type": "code",
   "execution_count": 5,
   "id": "6cdb72f1",
   "metadata": {},
   "outputs": [
    {
     "name": "stdout",
     "output_type": "stream",
     "text": [
      "[[1 3 5 7 9]]\n",
      "(1, 5)\n"
     ]
    }
   ],
   "source": [
    "arr2 = arr1.reshape((1,5))\n",
    "print(arr2)\n",
    "print(arr2.shape)"
   ]
  },
  {
   "cell_type": "code",
   "execution_count": 6,
   "id": "c30ee5ac",
   "metadata": {},
   "outputs": [
    {
     "name": "stdout",
     "output_type": "stream",
     "text": [
      "[[1]\n",
      " [3]\n",
      " [5]\n",
      " [7]\n",
      " [9]]\n",
      "(5, 1)\n"
     ]
    }
   ],
   "source": [
    "arr3 = arr2.reshape((5, 1))\n",
    "print(arr3)\n",
    "print(arr3.shape)"
   ]
  },
  {
   "cell_type": "code",
   "execution_count": 7,
   "id": "bab01b86",
   "metadata": {},
   "outputs": [
    {
     "name": "stdout",
     "output_type": "stream",
     "text": [
      "[[ 1  2  3  4  5]\n",
      " [ 2  4  6  8 10]]\n",
      "(2, 5)\n"
     ]
    }
   ],
   "source": [
    "arr4 = np.array([[1, 2, 3, 4, 5], [2, 4, 6, 8, 10]])\n",
    "print(arr4)\n",
    "print(arr4.shape)"
   ]
  },
  {
   "cell_type": "code",
   "execution_count": 12,
   "id": "c3bec696",
   "metadata": {},
   "outputs": [
    {
     "name": "stdout",
     "output_type": "stream",
     "text": [
      "[-5 -4 -3 -2 -1  0  1  2  3  4]\n",
      "[[-5 -4 -3 -2 -1]\n",
      " [ 0  1  2  3  4]]\n"
     ]
    }
   ],
   "source": [
    "arr5 = np.arange(-5, 5, 1)\n",
    "print(arr5)\n",
    "arr5 = arr5.reshape((2, 5))\n",
    "print(arr5)"
   ]
  },
  {
   "cell_type": "code",
   "execution_count": 20,
   "id": "febb5508",
   "metadata": {},
   "outputs": [
    {
     "name": "stdout",
     "output_type": "stream",
     "text": [
      "[0. 0. 0. 0. 0.]\n",
      "\n",
      " [1. 1. 1. 1. 1.]\n",
      "\n",
      " [[1. 0. 0. 0. 0.]\n",
      " [0. 1. 0. 0. 0.]\n",
      " [0. 0. 1. 0. 0.]\n",
      " [0. 0. 0. 1. 0.]\n",
      " [0. 0. 0. 0. 1.]]\n"
     ]
    }
   ],
   "source": [
    "zero = np.zeros(5)\n",
    "print(zero)\n",
    "\n",
    "one = np.ones(5)\n",
    "print('\\n',one)\n",
    "\n",
    "iden = np.eye(5)\n",
    "print('\\n',iden)"
   ]
  },
  {
   "cell_type": "code",
   "execution_count": 21,
   "id": "ab6e1a13",
   "metadata": {},
   "outputs": [
    {
     "name": "stdout",
     "output_type": "stream",
     "text": [
      "(5, 5)\n",
      "2\n",
      "25\n",
      "float64\n",
      "8\n"
     ]
    }
   ],
   "source": [
    "print(iden.shape)\n",
    "print(iden.ndim)\n",
    "print(iden.size)\n",
    "print(iden.dtype)\n",
    "print(iden.itemsize)\n",
    "\n"
   ]
  },
  {
   "cell_type": "code",
   "execution_count": 22,
   "id": "507fce13",
   "metadata": {},
   "outputs": [
    {
     "name": "stdout",
     "output_type": "stream",
     "text": [
      "[ 3  7 11 15 19]\n",
      "[-1 -1 -1 -1 -1]\n",
      "[ 2 12 30 56 90]\n",
      "[0.5        0.75       0.83333333 0.875      0.9       ]\n"
     ]
    }
   ],
   "source": [
    "# Vectorized Operations\n",
    "\n",
    "ar1 = np.array([1, 3, 5, 7, 9])\n",
    "ar2 = np.array([2, 4, 6, 8, 10])\n",
    "print(ar1 + ar2)\n",
    "print(ar1 - ar2)\n",
    "print(ar1 * ar2)\n",
    "print(ar1 / ar2)"
   ]
  },
  {
   "cell_type": "code",
   "execution_count": 27,
   "id": "1d0a7eb4",
   "metadata": {},
   "outputs": [
    {
     "name": "stdout",
     "output_type": "stream",
     "text": [
      "[1.41421356 2.         2.44948974 2.82842712 3.16227766]\n",
      "\n",
      " [2.71828183e+00 2.00855369e+01 1.48413159e+02 1.09663316e+03\n",
      " 8.10308393e+03]\n",
      "\n",
      " [ 0.84147098  0.14112001 -0.95892427  0.6569866   0.41211849]\n",
      "\n",
      " [0.69314718 1.38629436 1.79175947 2.07944154 2.30258509]\n"
     ]
    }
   ],
   "source": [
    "print(np.sqrt(ar2))\n",
    "\n",
    "print('\\n', np.exp(ar1))\n",
    "\n",
    "print('\\n', np.sin(ar1))\n",
    "\n",
    "print('\\n', np.log(ar2))"
   ]
  },
  {
   "cell_type": "code",
   "execution_count": 38,
   "id": "bcbbe8bb",
   "metadata": {},
   "outputs": [
    {
     "name": "stdout",
     "output_type": "stream",
     "text": [
      "[[ 1  2  3  4]\n",
      " [ 5  6  7  8]\n",
      " [ 9 10 11 12]]\n",
      "\n",
      " 1 1\n",
      "\n",
      " [[ 7  8]\n",
      " [11 12]]\n",
      "\n",
      " [[ 1  2]\n",
      " [ 5  6]\n",
      " [ 9 10]]\n",
      "\n",
      " [ 9 10 11 12]\n"
     ]
    }
   ],
   "source": [
    "ar3 = np.array([[1, 2, 3, 4],[5, 6, 7, 8], [9, 10, 11, 12]])\n",
    "print(ar3)\n",
    "\n",
    "print('\\n', ar3[0,0], ar3[0][0])\n",
    "\n",
    "print('\\n', ar3[1:,2:])\n",
    "\n",
    "print('\\n', ar3[:,:2])\n",
    "\n",
    "print('\\n', ar3[-1, :])"
   ]
  },
  {
   "cell_type": "code",
   "execution_count": 39,
   "id": "7aea8ea0",
   "metadata": {},
   "outputs": [
    {
     "name": "stdout",
     "output_type": "stream",
     "text": [
      "[[-1  2  3  4]\n",
      " [ 5  6  7  8]\n",
      " [ 9 10 11 12]]\n"
     ]
    }
   ],
   "source": [
    "# Modify array elements\n",
    "\n",
    "ar3[0, 0] = -1\n",
    "print(ar3) "
   ]
  },
  {
   "cell_type": "code",
   "execution_count": 44,
   "id": "65cd3adc",
   "metadata": {},
   "outputs": [
    {
     "name": "stdout",
     "output_type": "stream",
     "text": [
      "[1 2 3 4 5]\n",
      "\n",
      " 3.0\n",
      "\n",
      " 1.4142135623730951\n",
      "\n",
      " [-1.41421356 -0.70710678  0.          0.70710678  1.41421356]\n",
      "\n",
      " 0.0\n",
      "\n",
      " 0.9999999999999999\n"
     ]
    }
   ],
   "source": [
    "# Statistical Concept - Normalization\n",
    "\n",
    "dt = np.array([1, 2, 3, 4, 5])\n",
    "print(dt)\n",
    "\n",
    "mean = np.mean(dt)\n",
    "print('\\n', mean)\n",
    "\n",
    "std = np.std(dt)\n",
    "print('\\n', std)\n",
    "\n",
    "norm_dt = (dt - mean) / std\n",
    "\n",
    "print('\\n', norm_dt)\n",
    "print('\\n',np.mean(norm_dt))\n",
    "print('\\n',np.std(norm_dt))"
   ]
  },
  {
   "cell_type": "code",
   "execution_count": null,
   "id": "03f558d5",
   "metadata": {},
   "outputs": [
    {
     "name": "stdout",
     "output_type": "stream",
     "text": [
      "5.5\n",
      "\n",
      " 5.5\n",
      "\n",
      " 2.8722813232690143\n",
      "\n",
      " 8.25\n"
     ]
    }
   ],
   "source": [
    "dt1 = np.array([1, 2, 3, 4, 5, 6, 7, 8, 9, 10])\n",
    "\n",
    "print(np.mean(dt1))\n",
    "print('\\n',np.median(dt1))\n",
    "print('\\n', np.std(dt1))\n",
    "print('\\n', np.var(dt1))"
   ]
  },
  {
   "cell_type": "code",
   "execution_count": 48,
   "id": "eb4fc348",
   "metadata": {},
   "outputs": [
    {
     "name": "stdout",
     "output_type": "stream",
     "text": [
      "[ 5  6  7  8  9 10]\n",
      "\n",
      " [6 7 8]\n"
     ]
    }
   ],
   "source": [
    "# Logical Operations\n",
    "\n",
    "print(dt1[dt1 > 4])\n",
    "\n",
    "print('\\n', dt1[(dt1 > 5) & (dt1 < 9)])\n"
   ]
  }
 ],
 "metadata": {
  "kernelspec": {
   "display_name": ".venv",
   "language": "python",
   "name": "python3"
  },
  "language_info": {
   "codemirror_mode": {
    "name": "ipython",
    "version": 3
   },
   "file_extension": ".py",
   "mimetype": "text/x-python",
   "name": "python",
   "nbconvert_exporter": "python",
   "pygments_lexer": "ipython3",
   "version": "3.13.1"
  }
 },
 "nbformat": 4,
 "nbformat_minor": 5
}
