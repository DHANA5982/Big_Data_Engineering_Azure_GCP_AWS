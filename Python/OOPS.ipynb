{
 "cells": [
  {
   "cell_type": "markdown",
   "id": "e799d6d5",
   "metadata": {},
   "source": [
    "# Class"
   ]
  },
  {
   "cell_type": "code",
   "execution_count": 9,
   "id": "923c8635",
   "metadata": {},
   "outputs": [],
   "source": [
    "# simple car class to create object\n",
    "\n",
    "class car:\n",
    "    pass\n",
    "\n",
    "audi = car()\n",
    "bmw = car()"
   ]
  },
  {
   "cell_type": "code",
   "execution_count": 4,
   "id": "b644e4cb",
   "metadata": {},
   "outputs": [
    {
     "name": "stdout",
     "output_type": "stream",
     "text": [
      "<__main__.car object at 0x000001DD612E8980>\n",
      "4\n"
     ]
    }
   ],
   "source": [
    "print(audi)\n",
    "audi.window = 4\n",
    "print(audi.window)"
   ]
  },
  {
   "cell_type": "code",
   "execution_count": null,
   "id": "6cf98b47",
   "metadata": {},
   "outputs": [],
   "source": [
    "# Instance variables\n",
    "\n",
    "class dog():\n",
    "    ## constructor\n",
    "    ## initaliseing object with attributes\n",
    "    def __init__(self, name, owner):\n",
    "        self.name = name\n",
    "        self.owner = owner\n",
    "\n",
    "\n",
    "dog1 = dog('mickle', 'dhana')"
   ]
  },
  {
   "cell_type": "code",
   "execution_count": 7,
   "id": "af61d414",
   "metadata": {},
   "outputs": [
    {
     "name": "stdout",
     "output_type": "stream",
     "text": [
      "<__main__.dog object at 0x000001DD612E86E0>\n",
      "mickle\n",
      "dhana\n"
     ]
    }
   ],
   "source": [
    "print(dog1)\n",
    "print(dog1.name)\n",
    "print(dog1.owner)"
   ]
  },
  {
   "cell_type": "code",
   "execution_count": 8,
   "id": "ebb79d3a",
   "metadata": {},
   "outputs": [
    {
     "name": "stdout",
     "output_type": "stream",
     "text": [
      "rowdy baby\n",
      "karthi\n"
     ]
    }
   ],
   "source": [
    "dog2 = dog('rowdy baby', 'karthi')\n",
    "print(dog2.name)\n",
    "print(dog2.owner)"
   ]
  },
  {
   "cell_type": "code",
   "execution_count": 32,
   "id": "a239a2bd",
   "metadata": {},
   "outputs": [],
   "source": [
    "## Instance methods\n",
    "\n",
    "class cat:\n",
    "    def __init__(self, name, owner, typ):\n",
    "        self.name = name\n",
    "        self.owner = owner\n",
    "        self.typ = typ\n",
    "\n",
    "    def trait(self):\n",
    "        print(f'{self.name} is {self.typ}.')"
   ]
  },
  {
   "cell_type": "code",
   "execution_count": null,
   "id": "ef65e5d0",
   "metadata": {},
   "outputs": [
    {
     "name": "stdout",
     "output_type": "stream",
     "text": [
      "vettikili dhana\n",
      "shiny karthi\n",
      "sevalai amma \n",
      "\n",
      "vettikili is sensitive.\n",
      "shiny is lazy.\n",
      "sevalai is playful.\n"
     ]
    }
   ],
   "source": [
    "cat1 = cat('vettikili', 'dhana', 'sensitive')\n",
    "cat2 = cat('shiny', 'karthi', 'lazy')\n",
    "cat3 = cat('sevalai', 'amma', 'playful')\n",
    " \n",
    "print(cat1.name, cat1.owner)\n",
    "print(cat2.name, cat2.owner)\n",
    "print(cat3.name, cat3.owner, '\\n')\n",
    "\n",
    "cat1.trait()\n",
    "cat2.trait()\n",
    "cat3.trait()"
   ]
  },
  {
   "cell_type": "code",
   "execution_count": 44,
   "id": "7f10b6f2",
   "metadata": {},
   "outputs": [],
   "source": [
    "# Bank Account\n",
    "# Define a class for bank account \n",
    "\n",
    "class BankAccount():\n",
    "    def __init__(self, owner, balance = 0):\n",
    "        self.owner = owner\n",
    "        self.balance = balance\n",
    "        print(f'Account created with initial balance of {self.balance}')\n",
    "\n",
    "    def deposit(self, amount):\n",
    "        self.balance += amount\n",
    "        print(f'{amount} is deposited. New balance is {self.balance}')\n",
    "\n",
    "    def withdraw(self, amount):\n",
    "        if amount > self.balance:\n",
    "            print('Insufficient balance.')\n",
    "        else:\n",
    "            self.balance -= amount\n",
    "            print(f'{amount} is withdrawn. New balance is {self.balance}')\n",
    "    \n",
    "    def get_balance(self):\n",
    "        return self.balance"
   ]
  },
  {
   "cell_type": "code",
   "execution_count": 47,
   "id": "ef371347",
   "metadata": {},
   "outputs": [
    {
     "name": "stdout",
     "output_type": "stream",
     "text": [
      "Account created with initial balance of 5000\n"
     ]
    }
   ],
   "source": [
    "# Create a bank account\n",
    "\n",
    "account1 = BankAccount('dhana', 5000)"
   ]
  },
  {
   "cell_type": "code",
   "execution_count": 48,
   "id": "cdbb90e7",
   "metadata": {},
   "outputs": [
    {
     "name": "stdout",
     "output_type": "stream",
     "text": [
      "2000 is deposited. New balance is 7000\n"
     ]
    }
   ],
   "source": [
    "# call instance methods\n",
    "\n",
    "account1.deposit(2000)"
   ]
  },
  {
   "cell_type": "code",
   "execution_count": 49,
   "id": "f978f391",
   "metadata": {},
   "outputs": [
    {
     "name": "stdout",
     "output_type": "stream",
     "text": [
      "500 is withdrawn. New balance is 6500\n"
     ]
    }
   ],
   "source": [
    "account1.withdraw(500)"
   ]
  },
  {
   "cell_type": "code",
   "execution_count": 50,
   "id": "884a93a7",
   "metadata": {},
   "outputs": [
    {
     "name": "stdout",
     "output_type": "stream",
     "text": [
      "6500\n"
     ]
    }
   ],
   "source": [
    "print(account1.get_balance())"
   ]
  }
 ],
 "metadata": {
  "kernelspec": {
   "display_name": ".venv",
   "language": "python",
   "name": "python3"
  },
  "language_info": {
   "codemirror_mode": {
    "name": "ipython",
    "version": 3
   },
   "file_extension": ".py",
   "mimetype": "text/x-python",
   "name": "python",
   "nbconvert_exporter": "python",
   "pygments_lexer": "ipython3",
   "version": "3.13.1"
  }
 },
 "nbformat": 4,
 "nbformat_minor": 5
}
