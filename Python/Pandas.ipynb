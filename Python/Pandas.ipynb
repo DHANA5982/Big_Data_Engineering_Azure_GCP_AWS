{
 "cells": [
  {
   "cell_type": "markdown",
   "id": "f8ce1b04",
   "metadata": {},
   "source": [
    "# Pandas"
   ]
  },
  {
   "cell_type": "code",
   "execution_count": 66,
   "id": "7068fa16",
   "metadata": {},
   "outputs": [],
   "source": [
    "import pandas as pd"
   ]
  },
  {
   "cell_type": "code",
   "execution_count": 67,
   "id": "f42649b5",
   "metadata": {},
   "outputs": [
    {
     "name": "stdout",
     "output_type": "stream",
     "text": [
      "0    1\n",
      "1    2\n",
      "2    3\n",
      "3    4\n",
      "4    5\n",
      "dtype: int64\n",
      "<class 'pandas.core.series.Series'>\n"
     ]
    }
   ],
   "source": [
    "numbers = [1, 2, 3, 4, 5]\n",
    "series = pd.Series(numbers)\n",
    "print(series)\n",
    "print(type(series))"
   ]
  },
  {
   "cell_type": "code",
   "execution_count": 68,
   "id": "e81eec45",
   "metadata": {},
   "outputs": [
    {
     "name": "stdout",
     "output_type": "stream",
     "text": [
      "a    1\n",
      "b    2\n",
      "c    3\n",
      "d    4\n",
      "dtype: int64\n"
     ]
    }
   ],
   "source": [
    "dictionary = {'a':1, 'b': 2, 'c': 3, 'd': 4}\n",
    "series1 = pd.Series(dictionary)\n",
    "print(series1)"
   ]
  },
  {
   "cell_type": "code",
   "execution_count": 69,
   "id": "0a36ee6c",
   "metadata": {},
   "outputs": [
    {
     "name": "stdout",
     "output_type": "stream",
     "text": [
      "India       4.18\n",
      "Germany     4.90\n",
      "China      19.00\n",
      "Ameria     30.10\n",
      "dtype: float64\n"
     ]
    }
   ],
   "source": [
    "gdp = [4.18, 4.9, 19, 30.1]\n",
    "country = ['India', 'Germany', 'China', 'Ameria']\n",
    "print(pd.Series(data = gdp, index = country))"
   ]
  },
  {
   "cell_type": "code",
   "execution_count": 70,
   "id": "bea7b4d9",
   "metadata": {},
   "outputs": [
    {
     "name": "stdout",
     "output_type": "stream",
     "text": [
      "      Name  Country      Occupation\n",
      "0    dhana    India  Data Scientist\n",
      "1  azzizat  Nigeria          Police\n",
      "2  kennady  Nigeria       Helthcare\n",
      "3      ana   Mexico       Lecturare\n",
      "<class 'pandas.core.frame.DataFrame'>\n"
     ]
    }
   ],
   "source": [
    "# DataFrame from a dictionary of list\n",
    "\n",
    "data = {'Name' :['dhana', 'azzizat', 'kennady', 'ana'],\n",
    "        'Country' : ['India', 'Nigeria', 'Nigeria', 'Mexico'],\n",
    "        'Occupation': ['Data Scientist', 'Police' ,'Helthcare', 'Lecturare']}\n",
    "\n",
    "df = pd.DataFrame(data)\n",
    "print(df)\n",
    "print(type(df))"
   ]
  },
  {
   "cell_type": "code",
   "execution_count": 71,
   "id": "f5a3bd0c",
   "metadata": {},
   "outputs": [
    {
     "name": "stdout",
     "output_type": "stream",
     "text": [
      "      Name  Country        Occupation\n",
      "0    Dhana    India    Data Scientist\n",
      "1  Azzizat  Nigeria            Police\n",
      "2  Kennady  Nigeria  Helthcare Worker\n",
      "3      Ana   Mexico         Lecturare\n"
     ]
    }
   ],
   "source": [
    "data = [{'Name': 'Dhana', 'Country': 'India', 'Occupation': 'Data Scientist'},\n",
    "        {'Name': 'Azzizat', 'Country': 'Nigeria', 'Occupation': 'Police'},\n",
    "        {'Name': 'Kennady', 'Country': 'Nigeria', 'Occupation': 'Helthcare Worker'},\n",
    "        {'Name': 'Ana', 'Country': 'Mexico', 'Occupation':'Lecturare'}]\n",
    "df = pd.DataFrame(data)\n",
    "print(df)"
   ]
  },
  {
   "cell_type": "code",
   "execution_count": 72,
   "id": "0c714850",
   "metadata": {},
   "outputs": [
    {
     "name": "stdout",
     "output_type": "stream",
     "text": [
      "      Name  Country        Occupation\n",
      "0    Dhana    India    Data Scientist\n",
      "1  Azzizat  Nigeria            Police\n",
      "2  Kennady  Nigeria  Helthcare Worker\n",
      "3      Ana   Mexico         Lecturare\n",
      "      Name  Country        Occupation\n",
      "0    Dhana    India    Data Scientist\n",
      "1  Azzizat  Nigeria            Police\n",
      "2  Kennady  Nigeria  Helthcare Worker\n",
      "3      Ana   Mexico         Lecturare\n"
     ]
    }
   ],
   "source": [
    "df1 = pd.read_csv('data.csv')\n",
    "print(df.head())\n",
    "print(df.tail())"
   ]
  },
  {
   "cell_type": "code",
   "execution_count": 73,
   "id": "ecbcc0a0",
   "metadata": {},
   "outputs": [
    {
     "name": "stdout",
     "output_type": "stream",
     "text": [
      "0      Dhana\n",
      "1    Azzizat\n",
      "2    Kennady\n",
      "3        Ana\n",
      "Name: Name, dtype: object\n"
     ]
    }
   ],
   "source": [
    "print(df['Name'])"
   ]
  },
  {
   "cell_type": "code",
   "execution_count": 74,
   "id": "48d46052",
   "metadata": {},
   "outputs": [
    {
     "name": "stdout",
     "output_type": "stream",
     "text": [
      "Azzizat\n"
     ]
    }
   ],
   "source": [
    "# Accessing specified elements\n",
    "\n",
    "print(df.at[1, 'Name'])"
   ]
  },
  {
   "cell_type": "code",
   "execution_count": 75,
   "id": "252f0b56",
   "metadata": {},
   "outputs": [
    {
     "name": "stdout",
     "output_type": "stream",
     "text": [
      "Mexico\n"
     ]
    }
   ],
   "source": [
    "print(df.at[3, 'Country'])"
   ]
  },
  {
   "cell_type": "code",
   "execution_count": 76,
   "id": "5c341fec",
   "metadata": {},
   "outputs": [
    {
     "name": "stdout",
     "output_type": "stream",
     "text": [
      "Police\n"
     ]
    }
   ],
   "source": [
    "print(df.iat[1, 2])"
   ]
  },
  {
   "cell_type": "code",
   "execution_count": 77,
   "id": "435df382",
   "metadata": {},
   "outputs": [
    {
     "name": "stdout",
     "output_type": "stream",
     "text": [
      "      Name  Country        Occupation  Salary\n",
      "0    Dhana    India    Data Scientist  100000\n",
      "1  Azzizat  Nigeria            Police   40000\n",
      "2  Kennady  Nigeria  Helthcare Worker   30000\n",
      "3      Ana   Mexico         Lecturare   40000\n"
     ]
    }
   ],
   "source": [
    "# Data Manipulation\n",
    "\n",
    "df['Salary'] = [100000, 40000, 30000, 40000]\n",
    "print(df)"
   ]
  },
  {
   "cell_type": "code",
   "execution_count": 78,
   "id": "68c52414",
   "metadata": {},
   "outputs": [
    {
     "name": "stdout",
     "output_type": "stream",
     "text": [
      "      Name  Country        Occupation\n",
      "0    Dhana    India    Data Scientist\n",
      "1  Azzizat  Nigeria            Police\n",
      "2  Kennady  Nigeria  Helthcare Worker\n",
      "3      Ana   Mexico         Lecturare\n"
     ]
    }
   ],
   "source": [
    "df.drop('Salary', axis=1, inplace= True)\n",
    "print(df)"
   ]
  },
  {
   "cell_type": "code",
   "execution_count": 79,
   "id": "cd8e8d00",
   "metadata": {},
   "outputs": [],
   "source": [
    "df.drop(0, inplace=True)"
   ]
  },
  {
   "cell_type": "code",
   "execution_count": 80,
   "id": "3b9b4e07",
   "metadata": {},
   "outputs": [
    {
     "name": "stdout",
     "output_type": "stream",
     "text": [
      "      Name  Country        Occupation\n",
      "1  Azzizat  Nigeria            Police\n",
      "2  Kennady  Nigeria  Helthcare Worker\n",
      "3      Ana   Mexico         Lecturare\n"
     ]
    }
   ],
   "source": [
    "print(df)"
   ]
  },
  {
   "cell_type": "code",
   "execution_count": 81,
   "id": "f1e8cbb0",
   "metadata": {},
   "outputs": [
    {
     "name": "stdout",
     "output_type": "stream",
     "text": [
      "Date         object\n",
      "Category     object\n",
      "Value       float64\n",
      "Product      object\n",
      "Sales       float64\n",
      "Region       object\n",
      "dtype: object\n"
     ]
    }
   ],
   "source": [
    "# Data Anlysis\n",
    "\n",
    "print(df1.dtypes)"
   ]
  },
  {
   "cell_type": "code",
   "execution_count": 82,
   "id": "944ef3ab",
   "metadata": {},
   "outputs": [
    {
     "name": "stdout",
     "output_type": "stream",
     "text": [
      "<class 'pandas.core.frame.DataFrame'>\n",
      "RangeIndex: 50 entries, 0 to 49\n",
      "Data columns (total 6 columns):\n",
      " #   Column    Non-Null Count  Dtype  \n",
      "---  ------    --------------  -----  \n",
      " 0   Date      50 non-null     object \n",
      " 1   Category  50 non-null     object \n",
      " 2   Value     47 non-null     float64\n",
      " 3   Product   50 non-null     object \n",
      " 4   Sales     46 non-null     float64\n",
      " 5   Region    50 non-null     object \n",
      "dtypes: float64(2), object(4)\n",
      "memory usage: 2.5+ KB\n",
      "None\n"
     ]
    }
   ],
   "source": [
    "print(df1.info())"
   ]
  },
  {
   "cell_type": "code",
   "execution_count": 83,
   "id": "9ea41754",
   "metadata": {},
   "outputs": [
    {
     "name": "stdout",
     "output_type": "stream",
     "text": [
      "         Date Category  Value   Product  Sales Region\n",
      "0  2023-01-01        A   28.0  Product1  754.0   East\n",
      "1  2023-01-02        B   39.0  Product3  110.0  North\n",
      "2  2023-01-03        C   32.0  Product2  398.0   East\n",
      "3  2023-01-04        B    8.0  Product1  522.0   East\n",
      "4  2023-01-05        B   26.0  Product3  869.0  North\n"
     ]
    }
   ],
   "source": [
    "print(df1.head())"
   ]
  },
  {
   "cell_type": "code",
   "execution_count": 84,
   "id": "28f25682",
   "metadata": {},
   "outputs": [
    {
     "name": "stdout",
     "output_type": "stream",
     "text": [
      "           Value       Sales\n",
      "count  47.000000   46.000000\n",
      "mean   51.744681  557.130435\n",
      "std    29.050532  274.598584\n",
      "min     2.000000  108.000000\n",
      "25%    27.500000  339.000000\n",
      "50%    54.000000  591.500000\n",
      "75%    70.000000  767.500000\n",
      "max    99.000000  992.000000\n"
     ]
    }
   ],
   "source": [
    "print(df1.describe())"
   ]
  },
  {
   "cell_type": "code",
   "execution_count": 85,
   "id": "43f363a3",
   "metadata": {},
   "outputs": [
    {
     "name": "stdout",
     "output_type": "stream",
     "text": [
      "Date        0\n",
      "Category    0\n",
      "Value       3\n",
      "Product     0\n",
      "Sales       4\n",
      "Region      0\n",
      "dtype: int64\n"
     ]
    }
   ],
   "source": [
    "print(df1.isnull().sum())"
   ]
  },
  {
   "cell_type": "code",
   "execution_count": 86,
   "id": "6fa0d3d1",
   "metadata": {},
   "outputs": [
    {
     "name": "stdout",
     "output_type": "stream",
     "text": [
      "Date        False\n",
      "Category    False\n",
      "Value        True\n",
      "Product     False\n",
      "Sales        True\n",
      "Region      False\n",
      "dtype: bool\n"
     ]
    }
   ],
   "source": [
    "print(df1.isnull().any())"
   ]
  },
  {
   "cell_type": "code",
   "execution_count": 87,
   "id": "05fd0808",
   "metadata": {},
   "outputs": [],
   "source": [
    "df1_filled = df1.fillna(0)"
   ]
  },
  {
   "cell_type": "code",
   "execution_count": 88,
   "id": "83162de3",
   "metadata": {},
   "outputs": [
    {
     "name": "stdout",
     "output_type": "stream",
     "text": [
      "Date        False\n",
      "Category    False\n",
      "Value       False\n",
      "Product     False\n",
      "Sales       False\n",
      "Region      False\n",
      "dtype: bool\n"
     ]
    }
   ],
   "source": [
    "print(df1_filled.isnull().any())"
   ]
  },
  {
   "cell_type": "code",
   "execution_count": 89,
   "id": "d6bd0a8e",
   "metadata": {},
   "outputs": [],
   "source": [
    "df1['Sales_filled_Mean'] = df1['Sales'].fillna(df1['Sales'].mean())"
   ]
  },
  {
   "cell_type": "code",
   "execution_count": 90,
   "id": "3f9a8cb7",
   "metadata": {},
   "outputs": [
    {
     "name": "stdout",
     "output_type": "stream",
     "text": [
      "          Date Category  Value   Product  Sales Region  Sales_filled_Mean\n",
      "0   2023-01-01        A   28.0  Product1  754.0   East         754.000000\n",
      "1   2023-01-02        B   39.0  Product3  110.0  North         110.000000\n",
      "2   2023-01-03        C   32.0  Product2  398.0   East         398.000000\n",
      "3   2023-01-04        B    8.0  Product1  522.0   East         522.000000\n",
      "4   2023-01-05        B   26.0  Product3  869.0  North         869.000000\n",
      "5   2023-01-06        B   54.0  Product3  192.0   West         192.000000\n",
      "6   2023-01-07        A   16.0  Product1  936.0   East         936.000000\n",
      "7   2023-01-08        C   89.0  Product1  488.0   West         488.000000\n",
      "8   2023-01-09        C   37.0  Product3  772.0   West         772.000000\n",
      "9   2023-01-10        A   22.0  Product2  834.0   West         834.000000\n",
      "10  2023-01-11        B    7.0  Product1  842.0  North         842.000000\n",
      "11  2023-01-12        B   60.0  Product2    NaN   West         557.130435\n",
      "12  2023-01-13        A   70.0  Product3  628.0  South         628.000000\n",
      "13  2023-01-14        A   69.0  Product1  423.0   East         423.000000\n",
      "14  2023-01-15        A   47.0  Product2  893.0   West         893.000000\n",
      "15  2023-01-16        C    NaN  Product1  895.0  North         895.000000\n",
      "16  2023-01-17        C   93.0  Product2  511.0  South         511.000000\n",
      "17  2023-01-18        C    NaN  Product1  108.0   West         108.000000\n",
      "18  2023-01-19        A   31.0  Product2  578.0   West         578.000000\n",
      "19  2023-01-20        A   59.0  Product1  736.0   East         736.000000\n",
      "20  2023-01-21        C   82.0  Product3  606.0  South         606.000000\n",
      "21  2023-01-22        C   37.0  Product2  992.0  South         992.000000\n",
      "22  2023-01-23        B   62.0  Product3  942.0  North         942.000000\n",
      "23  2023-01-24        C   92.0  Product2  342.0   West         342.000000\n",
      "24  2023-01-25        A   24.0  Product2  458.0   East         458.000000\n",
      "25  2023-01-26        C   95.0  Product1  584.0   West         584.000000\n",
      "26  2023-01-27        C   71.0  Product2  619.0  North         619.000000\n",
      "27  2023-01-28        C   56.0  Product2  224.0  North         224.000000\n",
      "28  2023-01-29        B    NaN  Product3  617.0  North         617.000000\n",
      "29  2023-01-30        C   51.0  Product2  737.0  South         737.000000\n",
      "30  2023-01-31        B   50.0  Product3  735.0   West         735.000000\n",
      "31  2023-02-01        A   17.0  Product2  189.0   West         189.000000\n",
      "32  2023-02-02        B   63.0  Product3  338.0  South         338.000000\n",
      "33  2023-02-03        C   27.0  Product3    NaN   East         557.130435\n",
      "34  2023-02-04        C   70.0  Product3  669.0   West         669.000000\n",
      "35  2023-02-05        B   60.0  Product2    NaN   West         557.130435\n",
      "36  2023-02-06        C   36.0  Product3  177.0   East         177.000000\n",
      "37  2023-02-07        C    2.0  Product1    NaN  North         557.130435\n",
      "38  2023-02-08        C   94.0  Product1  408.0  South         408.000000\n",
      "39  2023-02-09        A   62.0  Product1  155.0   West         155.000000\n",
      "40  2023-02-10        B   15.0  Product1  578.0   East         578.000000\n",
      "41  2023-02-11        C   97.0  Product1  256.0   East         256.000000\n",
      "42  2023-02-12        A   93.0  Product3  164.0   West         164.000000\n",
      "43  2023-02-13        A   43.0  Product3  949.0   East         949.000000\n",
      "44  2023-02-14        A   96.0  Product3  830.0   East         830.000000\n",
      "45  2023-02-15        B   99.0  Product2  599.0   West         599.000000\n",
      "46  2023-02-16        B    6.0  Product1  938.0  South         938.000000\n",
      "47  2023-02-17        B   69.0  Product3  143.0   West         143.000000\n",
      "48  2023-02-18        C   65.0  Product3  182.0  North         182.000000\n",
      "49  2023-02-19        C   11.0  Product3  708.0  North         708.000000\n"
     ]
    }
   ],
   "source": [
    "print(df1)"
   ]
  },
  {
   "cell_type": "code",
   "execution_count": 91,
   "id": "9ee38378",
   "metadata": {},
   "outputs": [
    {
     "name": "stdout",
     "output_type": "stream",
     "text": [
      "Index(['Date', 'Category', 'Value', 'Product', 'Sales', 'Region',\n",
      "       'Sales_filled_Mean'],\n",
      "      dtype='object')\n"
     ]
    }
   ],
   "source": [
    "print(df1.columns)"
   ]
  },
  {
   "cell_type": "code",
   "execution_count": 92,
   "id": "4fdb3fe6",
   "metadata": {},
   "outputs": [
    {
     "name": "stdout",
     "output_type": "stream",
     "text": [
      "         Date Category  Value   Product  Sales Region  Sales_filled\n",
      "0  2023-01-01        A   28.0  Product1  754.0   East         754.0\n"
     ]
    }
   ],
   "source": [
    "df1 = df1.rename(columns={'Sales_filled_Mean': 'Sales_filled'})\n",
    "print(df1.head(1))"
   ]
  },
  {
   "cell_type": "code",
   "execution_count": 93,
   "id": "01b44422",
   "metadata": {},
   "outputs": [
    {
     "data": {
      "text/html": [
       "<div>\n",
       "<style scoped>\n",
       "    .dataframe tbody tr th:only-of-type {\n",
       "        vertical-align: middle;\n",
       "    }\n",
       "\n",
       "    .dataframe tbody tr th {\n",
       "        vertical-align: top;\n",
       "    }\n",
       "\n",
       "    .dataframe thead th {\n",
       "        text-align: right;\n",
       "    }\n",
       "</style>\n",
       "<table border=\"1\" class=\"dataframe\">\n",
       "  <thead>\n",
       "    <tr style=\"text-align: right;\">\n",
       "      <th></th>\n",
       "      <th>Date</th>\n",
       "      <th>Category</th>\n",
       "      <th>Value</th>\n",
       "      <th>Product</th>\n",
       "      <th>Sales</th>\n",
       "      <th>Region</th>\n",
       "      <th>Sales_filled</th>\n",
       "    </tr>\n",
       "  </thead>\n",
       "  <tbody>\n",
       "    <tr>\n",
       "      <th>0</th>\n",
       "      <td>2023-01-01</td>\n",
       "      <td>A</td>\n",
       "      <td>28.0</td>\n",
       "      <td>Product1</td>\n",
       "      <td>754.0</td>\n",
       "      <td>East</td>\n",
       "      <td>754.000000</td>\n",
       "    </tr>\n",
       "    <tr>\n",
       "      <th>1</th>\n",
       "      <td>2023-01-02</td>\n",
       "      <td>B</td>\n",
       "      <td>39.0</td>\n",
       "      <td>Product3</td>\n",
       "      <td>110.0</td>\n",
       "      <td>North</td>\n",
       "      <td>110.000000</td>\n",
       "    </tr>\n",
       "    <tr>\n",
       "      <th>2</th>\n",
       "      <td>2023-01-03</td>\n",
       "      <td>C</td>\n",
       "      <td>32.0</td>\n",
       "      <td>Product2</td>\n",
       "      <td>398.0</td>\n",
       "      <td>East</td>\n",
       "      <td>398.000000</td>\n",
       "    </tr>\n",
       "    <tr>\n",
       "      <th>3</th>\n",
       "      <td>2023-01-04</td>\n",
       "      <td>B</td>\n",
       "      <td>8.0</td>\n",
       "      <td>Product1</td>\n",
       "      <td>522.0</td>\n",
       "      <td>East</td>\n",
       "      <td>522.000000</td>\n",
       "    </tr>\n",
       "    <tr>\n",
       "      <th>4</th>\n",
       "      <td>2023-01-05</td>\n",
       "      <td>B</td>\n",
       "      <td>26.0</td>\n",
       "      <td>Product3</td>\n",
       "      <td>869.0</td>\n",
       "      <td>North</td>\n",
       "      <td>869.000000</td>\n",
       "    </tr>\n",
       "    <tr>\n",
       "      <th>5</th>\n",
       "      <td>2023-01-06</td>\n",
       "      <td>B</td>\n",
       "      <td>54.0</td>\n",
       "      <td>Product3</td>\n",
       "      <td>192.0</td>\n",
       "      <td>West</td>\n",
       "      <td>192.000000</td>\n",
       "    </tr>\n",
       "    <tr>\n",
       "      <th>6</th>\n",
       "      <td>2023-01-07</td>\n",
       "      <td>A</td>\n",
       "      <td>16.0</td>\n",
       "      <td>Product1</td>\n",
       "      <td>936.0</td>\n",
       "      <td>East</td>\n",
       "      <td>936.000000</td>\n",
       "    </tr>\n",
       "    <tr>\n",
       "      <th>7</th>\n",
       "      <td>2023-01-08</td>\n",
       "      <td>C</td>\n",
       "      <td>89.0</td>\n",
       "      <td>Product1</td>\n",
       "      <td>488.0</td>\n",
       "      <td>West</td>\n",
       "      <td>488.000000</td>\n",
       "    </tr>\n",
       "    <tr>\n",
       "      <th>8</th>\n",
       "      <td>2023-01-09</td>\n",
       "      <td>C</td>\n",
       "      <td>37.0</td>\n",
       "      <td>Product3</td>\n",
       "      <td>772.0</td>\n",
       "      <td>West</td>\n",
       "      <td>772.000000</td>\n",
       "    </tr>\n",
       "    <tr>\n",
       "      <th>9</th>\n",
       "      <td>2023-01-10</td>\n",
       "      <td>A</td>\n",
       "      <td>22.0</td>\n",
       "      <td>Product2</td>\n",
       "      <td>834.0</td>\n",
       "      <td>West</td>\n",
       "      <td>834.000000</td>\n",
       "    </tr>\n",
       "    <tr>\n",
       "      <th>10</th>\n",
       "      <td>2023-01-11</td>\n",
       "      <td>B</td>\n",
       "      <td>7.0</td>\n",
       "      <td>Product1</td>\n",
       "      <td>842.0</td>\n",
       "      <td>North</td>\n",
       "      <td>842.000000</td>\n",
       "    </tr>\n",
       "    <tr>\n",
       "      <th>11</th>\n",
       "      <td>2023-01-12</td>\n",
       "      <td>B</td>\n",
       "      <td>60.0</td>\n",
       "      <td>Product2</td>\n",
       "      <td>NaN</td>\n",
       "      <td>West</td>\n",
       "      <td>557.130435</td>\n",
       "    </tr>\n",
       "    <tr>\n",
       "      <th>12</th>\n",
       "      <td>2023-01-13</td>\n",
       "      <td>A</td>\n",
       "      <td>70.0</td>\n",
       "      <td>Product3</td>\n",
       "      <td>628.0</td>\n",
       "      <td>South</td>\n",
       "      <td>628.000000</td>\n",
       "    </tr>\n",
       "    <tr>\n",
       "      <th>13</th>\n",
       "      <td>2023-01-14</td>\n",
       "      <td>A</td>\n",
       "      <td>69.0</td>\n",
       "      <td>Product1</td>\n",
       "      <td>423.0</td>\n",
       "      <td>East</td>\n",
       "      <td>423.000000</td>\n",
       "    </tr>\n",
       "    <tr>\n",
       "      <th>14</th>\n",
       "      <td>2023-01-15</td>\n",
       "      <td>A</td>\n",
       "      <td>47.0</td>\n",
       "      <td>Product2</td>\n",
       "      <td>893.0</td>\n",
       "      <td>West</td>\n",
       "      <td>893.000000</td>\n",
       "    </tr>\n",
       "    <tr>\n",
       "      <th>15</th>\n",
       "      <td>2023-01-16</td>\n",
       "      <td>C</td>\n",
       "      <td>NaN</td>\n",
       "      <td>Product1</td>\n",
       "      <td>895.0</td>\n",
       "      <td>North</td>\n",
       "      <td>895.000000</td>\n",
       "    </tr>\n",
       "    <tr>\n",
       "      <th>16</th>\n",
       "      <td>2023-01-17</td>\n",
       "      <td>C</td>\n",
       "      <td>93.0</td>\n",
       "      <td>Product2</td>\n",
       "      <td>511.0</td>\n",
       "      <td>South</td>\n",
       "      <td>511.000000</td>\n",
       "    </tr>\n",
       "    <tr>\n",
       "      <th>17</th>\n",
       "      <td>2023-01-18</td>\n",
       "      <td>C</td>\n",
       "      <td>NaN</td>\n",
       "      <td>Product1</td>\n",
       "      <td>108.0</td>\n",
       "      <td>West</td>\n",
       "      <td>108.000000</td>\n",
       "    </tr>\n",
       "    <tr>\n",
       "      <th>18</th>\n",
       "      <td>2023-01-19</td>\n",
       "      <td>A</td>\n",
       "      <td>31.0</td>\n",
       "      <td>Product2</td>\n",
       "      <td>578.0</td>\n",
       "      <td>West</td>\n",
       "      <td>578.000000</td>\n",
       "    </tr>\n",
       "    <tr>\n",
       "      <th>19</th>\n",
       "      <td>2023-01-20</td>\n",
       "      <td>A</td>\n",
       "      <td>59.0</td>\n",
       "      <td>Product1</td>\n",
       "      <td>736.0</td>\n",
       "      <td>East</td>\n",
       "      <td>736.000000</td>\n",
       "    </tr>\n",
       "    <tr>\n",
       "      <th>20</th>\n",
       "      <td>2023-01-21</td>\n",
       "      <td>C</td>\n",
       "      <td>82.0</td>\n",
       "      <td>Product3</td>\n",
       "      <td>606.0</td>\n",
       "      <td>South</td>\n",
       "      <td>606.000000</td>\n",
       "    </tr>\n",
       "    <tr>\n",
       "      <th>21</th>\n",
       "      <td>2023-01-22</td>\n",
       "      <td>C</td>\n",
       "      <td>37.0</td>\n",
       "      <td>Product2</td>\n",
       "      <td>992.0</td>\n",
       "      <td>South</td>\n",
       "      <td>992.000000</td>\n",
       "    </tr>\n",
       "    <tr>\n",
       "      <th>22</th>\n",
       "      <td>2023-01-23</td>\n",
       "      <td>B</td>\n",
       "      <td>62.0</td>\n",
       "      <td>Product3</td>\n",
       "      <td>942.0</td>\n",
       "      <td>North</td>\n",
       "      <td>942.000000</td>\n",
       "    </tr>\n",
       "    <tr>\n",
       "      <th>23</th>\n",
       "      <td>2023-01-24</td>\n",
       "      <td>C</td>\n",
       "      <td>92.0</td>\n",
       "      <td>Product2</td>\n",
       "      <td>342.0</td>\n",
       "      <td>West</td>\n",
       "      <td>342.000000</td>\n",
       "    </tr>\n",
       "    <tr>\n",
       "      <th>24</th>\n",
       "      <td>2023-01-25</td>\n",
       "      <td>A</td>\n",
       "      <td>24.0</td>\n",
       "      <td>Product2</td>\n",
       "      <td>458.0</td>\n",
       "      <td>East</td>\n",
       "      <td>458.000000</td>\n",
       "    </tr>\n",
       "    <tr>\n",
       "      <th>25</th>\n",
       "      <td>2023-01-26</td>\n",
       "      <td>C</td>\n",
       "      <td>95.0</td>\n",
       "      <td>Product1</td>\n",
       "      <td>584.0</td>\n",
       "      <td>West</td>\n",
       "      <td>584.000000</td>\n",
       "    </tr>\n",
       "    <tr>\n",
       "      <th>26</th>\n",
       "      <td>2023-01-27</td>\n",
       "      <td>C</td>\n",
       "      <td>71.0</td>\n",
       "      <td>Product2</td>\n",
       "      <td>619.0</td>\n",
       "      <td>North</td>\n",
       "      <td>619.000000</td>\n",
       "    </tr>\n",
       "    <tr>\n",
       "      <th>27</th>\n",
       "      <td>2023-01-28</td>\n",
       "      <td>C</td>\n",
       "      <td>56.0</td>\n",
       "      <td>Product2</td>\n",
       "      <td>224.0</td>\n",
       "      <td>North</td>\n",
       "      <td>224.000000</td>\n",
       "    </tr>\n",
       "    <tr>\n",
       "      <th>28</th>\n",
       "      <td>2023-01-29</td>\n",
       "      <td>B</td>\n",
       "      <td>NaN</td>\n",
       "      <td>Product3</td>\n",
       "      <td>617.0</td>\n",
       "      <td>North</td>\n",
       "      <td>617.000000</td>\n",
       "    </tr>\n",
       "    <tr>\n",
       "      <th>29</th>\n",
       "      <td>2023-01-30</td>\n",
       "      <td>C</td>\n",
       "      <td>51.0</td>\n",
       "      <td>Product2</td>\n",
       "      <td>737.0</td>\n",
       "      <td>South</td>\n",
       "      <td>737.000000</td>\n",
       "    </tr>\n",
       "    <tr>\n",
       "      <th>30</th>\n",
       "      <td>2023-01-31</td>\n",
       "      <td>B</td>\n",
       "      <td>50.0</td>\n",
       "      <td>Product3</td>\n",
       "      <td>735.0</td>\n",
       "      <td>West</td>\n",
       "      <td>735.000000</td>\n",
       "    </tr>\n",
       "    <tr>\n",
       "      <th>31</th>\n",
       "      <td>2023-02-01</td>\n",
       "      <td>A</td>\n",
       "      <td>17.0</td>\n",
       "      <td>Product2</td>\n",
       "      <td>189.0</td>\n",
       "      <td>West</td>\n",
       "      <td>189.000000</td>\n",
       "    </tr>\n",
       "    <tr>\n",
       "      <th>32</th>\n",
       "      <td>2023-02-02</td>\n",
       "      <td>B</td>\n",
       "      <td>63.0</td>\n",
       "      <td>Product3</td>\n",
       "      <td>338.0</td>\n",
       "      <td>South</td>\n",
       "      <td>338.000000</td>\n",
       "    </tr>\n",
       "    <tr>\n",
       "      <th>33</th>\n",
       "      <td>2023-02-03</td>\n",
       "      <td>C</td>\n",
       "      <td>27.0</td>\n",
       "      <td>Product3</td>\n",
       "      <td>NaN</td>\n",
       "      <td>East</td>\n",
       "      <td>557.130435</td>\n",
       "    </tr>\n",
       "    <tr>\n",
       "      <th>34</th>\n",
       "      <td>2023-02-04</td>\n",
       "      <td>C</td>\n",
       "      <td>70.0</td>\n",
       "      <td>Product3</td>\n",
       "      <td>669.0</td>\n",
       "      <td>West</td>\n",
       "      <td>669.000000</td>\n",
       "    </tr>\n",
       "    <tr>\n",
       "      <th>35</th>\n",
       "      <td>2023-02-05</td>\n",
       "      <td>B</td>\n",
       "      <td>60.0</td>\n",
       "      <td>Product2</td>\n",
       "      <td>NaN</td>\n",
       "      <td>West</td>\n",
       "      <td>557.130435</td>\n",
       "    </tr>\n",
       "    <tr>\n",
       "      <th>36</th>\n",
       "      <td>2023-02-06</td>\n",
       "      <td>C</td>\n",
       "      <td>36.0</td>\n",
       "      <td>Product3</td>\n",
       "      <td>177.0</td>\n",
       "      <td>East</td>\n",
       "      <td>177.000000</td>\n",
       "    </tr>\n",
       "    <tr>\n",
       "      <th>37</th>\n",
       "      <td>2023-02-07</td>\n",
       "      <td>C</td>\n",
       "      <td>2.0</td>\n",
       "      <td>Product1</td>\n",
       "      <td>NaN</td>\n",
       "      <td>North</td>\n",
       "      <td>557.130435</td>\n",
       "    </tr>\n",
       "    <tr>\n",
       "      <th>38</th>\n",
       "      <td>2023-02-08</td>\n",
       "      <td>C</td>\n",
       "      <td>94.0</td>\n",
       "      <td>Product1</td>\n",
       "      <td>408.0</td>\n",
       "      <td>South</td>\n",
       "      <td>408.000000</td>\n",
       "    </tr>\n",
       "    <tr>\n",
       "      <th>39</th>\n",
       "      <td>2023-02-09</td>\n",
       "      <td>A</td>\n",
       "      <td>62.0</td>\n",
       "      <td>Product1</td>\n",
       "      <td>155.0</td>\n",
       "      <td>West</td>\n",
       "      <td>155.000000</td>\n",
       "    </tr>\n",
       "    <tr>\n",
       "      <th>40</th>\n",
       "      <td>2023-02-10</td>\n",
       "      <td>B</td>\n",
       "      <td>15.0</td>\n",
       "      <td>Product1</td>\n",
       "      <td>578.0</td>\n",
       "      <td>East</td>\n",
       "      <td>578.000000</td>\n",
       "    </tr>\n",
       "    <tr>\n",
       "      <th>41</th>\n",
       "      <td>2023-02-11</td>\n",
       "      <td>C</td>\n",
       "      <td>97.0</td>\n",
       "      <td>Product1</td>\n",
       "      <td>256.0</td>\n",
       "      <td>East</td>\n",
       "      <td>256.000000</td>\n",
       "    </tr>\n",
       "    <tr>\n",
       "      <th>42</th>\n",
       "      <td>2023-02-12</td>\n",
       "      <td>A</td>\n",
       "      <td>93.0</td>\n",
       "      <td>Product3</td>\n",
       "      <td>164.0</td>\n",
       "      <td>West</td>\n",
       "      <td>164.000000</td>\n",
       "    </tr>\n",
       "    <tr>\n",
       "      <th>43</th>\n",
       "      <td>2023-02-13</td>\n",
       "      <td>A</td>\n",
       "      <td>43.0</td>\n",
       "      <td>Product3</td>\n",
       "      <td>949.0</td>\n",
       "      <td>East</td>\n",
       "      <td>949.000000</td>\n",
       "    </tr>\n",
       "    <tr>\n",
       "      <th>44</th>\n",
       "      <td>2023-02-14</td>\n",
       "      <td>A</td>\n",
       "      <td>96.0</td>\n",
       "      <td>Product3</td>\n",
       "      <td>830.0</td>\n",
       "      <td>East</td>\n",
       "      <td>830.000000</td>\n",
       "    </tr>\n",
       "    <tr>\n",
       "      <th>45</th>\n",
       "      <td>2023-02-15</td>\n",
       "      <td>B</td>\n",
       "      <td>99.0</td>\n",
       "      <td>Product2</td>\n",
       "      <td>599.0</td>\n",
       "      <td>West</td>\n",
       "      <td>599.000000</td>\n",
       "    </tr>\n",
       "    <tr>\n",
       "      <th>46</th>\n",
       "      <td>2023-02-16</td>\n",
       "      <td>B</td>\n",
       "      <td>6.0</td>\n",
       "      <td>Product1</td>\n",
       "      <td>938.0</td>\n",
       "      <td>South</td>\n",
       "      <td>938.000000</td>\n",
       "    </tr>\n",
       "    <tr>\n",
       "      <th>47</th>\n",
       "      <td>2023-02-17</td>\n",
       "      <td>B</td>\n",
       "      <td>69.0</td>\n",
       "      <td>Product3</td>\n",
       "      <td>143.0</td>\n",
       "      <td>West</td>\n",
       "      <td>143.000000</td>\n",
       "    </tr>\n",
       "    <tr>\n",
       "      <th>48</th>\n",
       "      <td>2023-02-18</td>\n",
       "      <td>C</td>\n",
       "      <td>65.0</td>\n",
       "      <td>Product3</td>\n",
       "      <td>182.0</td>\n",
       "      <td>North</td>\n",
       "      <td>182.000000</td>\n",
       "    </tr>\n",
       "    <tr>\n",
       "      <th>49</th>\n",
       "      <td>2023-02-19</td>\n",
       "      <td>C</td>\n",
       "      <td>11.0</td>\n",
       "      <td>Product3</td>\n",
       "      <td>708.0</td>\n",
       "      <td>North</td>\n",
       "      <td>708.000000</td>\n",
       "    </tr>\n",
       "  </tbody>\n",
       "</table>\n",
       "</div>"
      ],
      "text/plain": [
       "          Date Category  Value   Product  Sales Region  Sales_filled\n",
       "0   2023-01-01        A   28.0  Product1  754.0   East    754.000000\n",
       "1   2023-01-02        B   39.0  Product3  110.0  North    110.000000\n",
       "2   2023-01-03        C   32.0  Product2  398.0   East    398.000000\n",
       "3   2023-01-04        B    8.0  Product1  522.0   East    522.000000\n",
       "4   2023-01-05        B   26.0  Product3  869.0  North    869.000000\n",
       "5   2023-01-06        B   54.0  Product3  192.0   West    192.000000\n",
       "6   2023-01-07        A   16.0  Product1  936.0   East    936.000000\n",
       "7   2023-01-08        C   89.0  Product1  488.0   West    488.000000\n",
       "8   2023-01-09        C   37.0  Product3  772.0   West    772.000000\n",
       "9   2023-01-10        A   22.0  Product2  834.0   West    834.000000\n",
       "10  2023-01-11        B    7.0  Product1  842.0  North    842.000000\n",
       "11  2023-01-12        B   60.0  Product2    NaN   West    557.130435\n",
       "12  2023-01-13        A   70.0  Product3  628.0  South    628.000000\n",
       "13  2023-01-14        A   69.0  Product1  423.0   East    423.000000\n",
       "14  2023-01-15        A   47.0  Product2  893.0   West    893.000000\n",
       "15  2023-01-16        C    NaN  Product1  895.0  North    895.000000\n",
       "16  2023-01-17        C   93.0  Product2  511.0  South    511.000000\n",
       "17  2023-01-18        C    NaN  Product1  108.0   West    108.000000\n",
       "18  2023-01-19        A   31.0  Product2  578.0   West    578.000000\n",
       "19  2023-01-20        A   59.0  Product1  736.0   East    736.000000\n",
       "20  2023-01-21        C   82.0  Product3  606.0  South    606.000000\n",
       "21  2023-01-22        C   37.0  Product2  992.0  South    992.000000\n",
       "22  2023-01-23        B   62.0  Product3  942.0  North    942.000000\n",
       "23  2023-01-24        C   92.0  Product2  342.0   West    342.000000\n",
       "24  2023-01-25        A   24.0  Product2  458.0   East    458.000000\n",
       "25  2023-01-26        C   95.0  Product1  584.0   West    584.000000\n",
       "26  2023-01-27        C   71.0  Product2  619.0  North    619.000000\n",
       "27  2023-01-28        C   56.0  Product2  224.0  North    224.000000\n",
       "28  2023-01-29        B    NaN  Product3  617.0  North    617.000000\n",
       "29  2023-01-30        C   51.0  Product2  737.0  South    737.000000\n",
       "30  2023-01-31        B   50.0  Product3  735.0   West    735.000000\n",
       "31  2023-02-01        A   17.0  Product2  189.0   West    189.000000\n",
       "32  2023-02-02        B   63.0  Product3  338.0  South    338.000000\n",
       "33  2023-02-03        C   27.0  Product3    NaN   East    557.130435\n",
       "34  2023-02-04        C   70.0  Product3  669.0   West    669.000000\n",
       "35  2023-02-05        B   60.0  Product2    NaN   West    557.130435\n",
       "36  2023-02-06        C   36.0  Product3  177.0   East    177.000000\n",
       "37  2023-02-07        C    2.0  Product1    NaN  North    557.130435\n",
       "38  2023-02-08        C   94.0  Product1  408.0  South    408.000000\n",
       "39  2023-02-09        A   62.0  Product1  155.0   West    155.000000\n",
       "40  2023-02-10        B   15.0  Product1  578.0   East    578.000000\n",
       "41  2023-02-11        C   97.0  Product1  256.0   East    256.000000\n",
       "42  2023-02-12        A   93.0  Product3  164.0   West    164.000000\n",
       "43  2023-02-13        A   43.0  Product3  949.0   East    949.000000\n",
       "44  2023-02-14        A   96.0  Product3  830.0   East    830.000000\n",
       "45  2023-02-15        B   99.0  Product2  599.0   West    599.000000\n",
       "46  2023-02-16        B    6.0  Product1  938.0  South    938.000000\n",
       "47  2023-02-17        B   69.0  Product3  143.0   West    143.000000\n",
       "48  2023-02-18        C   65.0  Product3  182.0  North    182.000000\n",
       "49  2023-02-19        C   11.0  Product3  708.0  North    708.000000"
      ]
     },
     "execution_count": 93,
     "metadata": {},
     "output_type": "execute_result"
    }
   ],
   "source": [
    "df1"
   ]
  },
  {
   "cell_type": "code",
   "execution_count": 95,
   "id": "d06b77e9",
   "metadata": {},
   "outputs": [],
   "source": [
    "df1_filled['New_Sales'] = df1_filled['Sales'].astype(int)"
   ]
  },
  {
   "cell_type": "code",
   "execution_count": 96,
   "id": "1e1b2066",
   "metadata": {},
   "outputs": [
    {
     "name": "stdout",
     "output_type": "stream",
     "text": [
      "          Date Category  Value   Product  Sales Region  New_Sales\n",
      "0   2023-01-01        A   28.0  Product1  754.0   East        754\n",
      "1   2023-01-02        B   39.0  Product3  110.0  North        110\n",
      "2   2023-01-03        C   32.0  Product2  398.0   East        398\n",
      "3   2023-01-04        B    8.0  Product1  522.0   East        522\n",
      "4   2023-01-05        B   26.0  Product3  869.0  North        869\n",
      "5   2023-01-06        B   54.0  Product3  192.0   West        192\n",
      "6   2023-01-07        A   16.0  Product1  936.0   East        936\n",
      "7   2023-01-08        C   89.0  Product1  488.0   West        488\n",
      "8   2023-01-09        C   37.0  Product3  772.0   West        772\n",
      "9   2023-01-10        A   22.0  Product2  834.0   West        834\n",
      "10  2023-01-11        B    7.0  Product1  842.0  North        842\n",
      "11  2023-01-12        B   60.0  Product2    0.0   West          0\n",
      "12  2023-01-13        A   70.0  Product3  628.0  South        628\n",
      "13  2023-01-14        A   69.0  Product1  423.0   East        423\n",
      "14  2023-01-15        A   47.0  Product2  893.0   West        893\n",
      "15  2023-01-16        C    0.0  Product1  895.0  North        895\n",
      "16  2023-01-17        C   93.0  Product2  511.0  South        511\n",
      "17  2023-01-18        C    0.0  Product1  108.0   West        108\n",
      "18  2023-01-19        A   31.0  Product2  578.0   West        578\n",
      "19  2023-01-20        A   59.0  Product1  736.0   East        736\n",
      "20  2023-01-21        C   82.0  Product3  606.0  South        606\n",
      "21  2023-01-22        C   37.0  Product2  992.0  South        992\n",
      "22  2023-01-23        B   62.0  Product3  942.0  North        942\n",
      "23  2023-01-24        C   92.0  Product2  342.0   West        342\n",
      "24  2023-01-25        A   24.0  Product2  458.0   East        458\n",
      "25  2023-01-26        C   95.0  Product1  584.0   West        584\n",
      "26  2023-01-27        C   71.0  Product2  619.0  North        619\n",
      "27  2023-01-28        C   56.0  Product2  224.0  North        224\n",
      "28  2023-01-29        B    0.0  Product3  617.0  North        617\n",
      "29  2023-01-30        C   51.0  Product2  737.0  South        737\n",
      "30  2023-01-31        B   50.0  Product3  735.0   West        735\n",
      "31  2023-02-01        A   17.0  Product2  189.0   West        189\n",
      "32  2023-02-02        B   63.0  Product3  338.0  South        338\n",
      "33  2023-02-03        C   27.0  Product3    0.0   East          0\n",
      "34  2023-02-04        C   70.0  Product3  669.0   West        669\n",
      "35  2023-02-05        B   60.0  Product2    0.0   West          0\n",
      "36  2023-02-06        C   36.0  Product3  177.0   East        177\n",
      "37  2023-02-07        C    2.0  Product1    0.0  North          0\n",
      "38  2023-02-08        C   94.0  Product1  408.0  South        408\n",
      "39  2023-02-09        A   62.0  Product1  155.0   West        155\n",
      "40  2023-02-10        B   15.0  Product1  578.0   East        578\n",
      "41  2023-02-11        C   97.0  Product1  256.0   East        256\n",
      "42  2023-02-12        A   93.0  Product3  164.0   West        164\n",
      "43  2023-02-13        A   43.0  Product3  949.0   East        949\n",
      "44  2023-02-14        A   96.0  Product3  830.0   East        830\n",
      "45  2023-02-15        B   99.0  Product2  599.0   West        599\n",
      "46  2023-02-16        B    6.0  Product1  938.0  South        938\n",
      "47  2023-02-17        B   69.0  Product3  143.0   West        143\n",
      "48  2023-02-18        C   65.0  Product3  182.0  North        182\n",
      "49  2023-02-19        C   11.0  Product3  708.0  North        708\n"
     ]
    }
   ],
   "source": [
    "print(df1_filled)"
   ]
  },
  {
   "cell_type": "code",
   "execution_count": 98,
   "id": "454c7c5f",
   "metadata": {},
   "outputs": [
    {
     "name": "stdout",
     "output_type": "stream",
     "text": [
      "          Date Category  Value   Product  Sales Region  New_Sales  Sales_New\n",
      "0   2023-01-01        A   28.0  Product1  754.0   East        754     1131.0\n",
      "1   2023-01-02        B   39.0  Product3  110.0  North        110      165.0\n",
      "2   2023-01-03        C   32.0  Product2  398.0   East        398      597.0\n",
      "3   2023-01-04        B    8.0  Product1  522.0   East        522      783.0\n",
      "4   2023-01-05        B   26.0  Product3  869.0  North        869     1303.5\n",
      "5   2023-01-06        B   54.0  Product3  192.0   West        192      288.0\n",
      "6   2023-01-07        A   16.0  Product1  936.0   East        936     1404.0\n",
      "7   2023-01-08        C   89.0  Product1  488.0   West        488      732.0\n",
      "8   2023-01-09        C   37.0  Product3  772.0   West        772     1158.0\n",
      "9   2023-01-10        A   22.0  Product2  834.0   West        834     1251.0\n",
      "10  2023-01-11        B    7.0  Product1  842.0  North        842     1263.0\n",
      "11  2023-01-12        B   60.0  Product2    0.0   West          0        0.0\n",
      "12  2023-01-13        A   70.0  Product3  628.0  South        628      942.0\n",
      "13  2023-01-14        A   69.0  Product1  423.0   East        423      634.5\n",
      "14  2023-01-15        A   47.0  Product2  893.0   West        893     1339.5\n",
      "15  2023-01-16        C    0.0  Product1  895.0  North        895     1342.5\n",
      "16  2023-01-17        C   93.0  Product2  511.0  South        511      766.5\n",
      "17  2023-01-18        C    0.0  Product1  108.0   West        108      162.0\n",
      "18  2023-01-19        A   31.0  Product2  578.0   West        578      867.0\n",
      "19  2023-01-20        A   59.0  Product1  736.0   East        736     1104.0\n",
      "20  2023-01-21        C   82.0  Product3  606.0  South        606      909.0\n",
      "21  2023-01-22        C   37.0  Product2  992.0  South        992     1488.0\n",
      "22  2023-01-23        B   62.0  Product3  942.0  North        942     1413.0\n",
      "23  2023-01-24        C   92.0  Product2  342.0   West        342      513.0\n",
      "24  2023-01-25        A   24.0  Product2  458.0   East        458      687.0\n",
      "25  2023-01-26        C   95.0  Product1  584.0   West        584      876.0\n",
      "26  2023-01-27        C   71.0  Product2  619.0  North        619      928.5\n",
      "27  2023-01-28        C   56.0  Product2  224.0  North        224      336.0\n",
      "28  2023-01-29        B    0.0  Product3  617.0  North        617      925.5\n",
      "29  2023-01-30        C   51.0  Product2  737.0  South        737     1105.5\n",
      "30  2023-01-31        B   50.0  Product3  735.0   West        735     1102.5\n",
      "31  2023-02-01        A   17.0  Product2  189.0   West        189      283.5\n",
      "32  2023-02-02        B   63.0  Product3  338.0  South        338      507.0\n",
      "33  2023-02-03        C   27.0  Product3    0.0   East          0        0.0\n",
      "34  2023-02-04        C   70.0  Product3  669.0   West        669     1003.5\n",
      "35  2023-02-05        B   60.0  Product2    0.0   West          0        0.0\n",
      "36  2023-02-06        C   36.0  Product3  177.0   East        177      265.5\n",
      "37  2023-02-07        C    2.0  Product1    0.0  North          0        0.0\n",
      "38  2023-02-08        C   94.0  Product1  408.0  South        408      612.0\n",
      "39  2023-02-09        A   62.0  Product1  155.0   West        155      232.5\n",
      "40  2023-02-10        B   15.0  Product1  578.0   East        578      867.0\n",
      "41  2023-02-11        C   97.0  Product1  256.0   East        256      384.0\n",
      "42  2023-02-12        A   93.0  Product3  164.0   West        164      246.0\n",
      "43  2023-02-13        A   43.0  Product3  949.0   East        949     1423.5\n",
      "44  2023-02-14        A   96.0  Product3  830.0   East        830     1245.0\n",
      "45  2023-02-15        B   99.0  Product2  599.0   West        599      898.5\n",
      "46  2023-02-16        B    6.0  Product1  938.0  South        938     1407.0\n",
      "47  2023-02-17        B   69.0  Product3  143.0   West        143      214.5\n",
      "48  2023-02-18        C   65.0  Product3  182.0  North        182      273.0\n",
      "49  2023-02-19        C   11.0  Product3  708.0  North        708     1062.0\n"
     ]
    }
   ],
   "source": [
    "df1_filled['Sales_New'] = df1_filled['Sales'].apply(lambda x:x*1.5)\n",
    "print(df1_filled)"
   ]
  },
  {
   "cell_type": "code",
   "execution_count": 99,
   "id": "4a12838f",
   "metadata": {},
   "outputs": [
    {
     "data": {
      "text/plain": [
       "Product\n",
       "Product1    40.437500\n",
       "Product2    52.800000\n",
       "Product3    52.263158\n",
       "Name: Value, dtype: float64"
      ]
     },
     "execution_count": 99,
     "metadata": {},
     "output_type": "execute_result"
    }
   ],
   "source": [
    "# Data Aggregating and Grouping\n",
    "\n",
    "df1_filled.groupby('Product')['Value'].mean()"
   ]
  },
  {
   "cell_type": "code",
   "execution_count": 101,
   "id": "96b6133a",
   "metadata": {},
   "outputs": [
    {
     "data": {
      "text/plain": [
       "Region  Product \n",
       "East    Product1    4205.0\n",
       "        Product2     856.0\n",
       "        Product3    1956.0\n",
       "North   Product1    1737.0\n",
       "        Product2     843.0\n",
       "        Product3    3428.0\n",
       "South   Product1    1346.0\n",
       "        Product2    2240.0\n",
       "        Product3    1572.0\n",
       "West    Product1    1335.0\n",
       "        Product2    3435.0\n",
       "        Product3    2675.0\n",
       "Name: Sales, dtype: float64"
      ]
     },
     "execution_count": 101,
     "metadata": {},
     "output_type": "execute_result"
    }
   ],
   "source": [
    "df1_filled.groupby(['Region', 'Product'])['Sales'].sum()"
   ]
  },
  {
   "cell_type": "code",
   "execution_count": 102,
   "id": "97087476",
   "metadata": {},
   "outputs": [
    {
     "data": {
      "text/html": [
       "<div>\n",
       "<style scoped>\n",
       "    .dataframe tbody tr th:only-of-type {\n",
       "        vertical-align: middle;\n",
       "    }\n",
       "\n",
       "    .dataframe tbody tr th {\n",
       "        vertical-align: top;\n",
       "    }\n",
       "\n",
       "    .dataframe thead th {\n",
       "        text-align: right;\n",
       "    }\n",
       "</style>\n",
       "<table border=\"1\" class=\"dataframe\">\n",
       "  <thead>\n",
       "    <tr style=\"text-align: right;\">\n",
       "      <th></th>\n",
       "      <th>mean</th>\n",
       "      <th>sum</th>\n",
       "      <th>count</th>\n",
       "    </tr>\n",
       "    <tr>\n",
       "      <th>Region</th>\n",
       "      <th></th>\n",
       "      <th></th>\n",
       "      <th></th>\n",
       "    </tr>\n",
       "  </thead>\n",
       "  <tbody>\n",
       "    <tr>\n",
       "      <th>East</th>\n",
       "      <td>42.307692</td>\n",
       "      <td>550.0</td>\n",
       "      <td>13</td>\n",
       "    </tr>\n",
       "    <tr>\n",
       "      <th>North</th>\n",
       "      <td>30.818182</td>\n",
       "      <td>339.0</td>\n",
       "      <td>11</td>\n",
       "    </tr>\n",
       "    <tr>\n",
       "      <th>South</th>\n",
       "      <td>62.000000</td>\n",
       "      <td>496.0</td>\n",
       "      <td>8</td>\n",
       "    </tr>\n",
       "    <tr>\n",
       "      <th>West</th>\n",
       "      <td>58.166667</td>\n",
       "      <td>1047.0</td>\n",
       "      <td>18</td>\n",
       "    </tr>\n",
       "  </tbody>\n",
       "</table>\n",
       "</div>"
      ],
      "text/plain": [
       "             mean     sum  count\n",
       "Region                          \n",
       "East    42.307692   550.0     13\n",
       "North   30.818182   339.0     11\n",
       "South   62.000000   496.0      8\n",
       "West    58.166667  1047.0     18"
      ]
     },
     "execution_count": 102,
     "metadata": {},
     "output_type": "execute_result"
    }
   ],
   "source": [
    "df1_filled.groupby('Region')['Value'].agg(['mean', 'sum', 'count'])"
   ]
  },
  {
   "cell_type": "code",
   "execution_count": 104,
   "id": "965ffa53",
   "metadata": {},
   "outputs": [
    {
     "name": "stdout",
     "output_type": "stream",
     "text": [
      "  key  value\n",
      "0   a      1\n",
      "1   b      2\n",
      "2   c      3\n",
      "  key  result\n",
      "0   a       4\n",
      "1   b       5\n",
      "2   c       6\n"
     ]
    }
   ],
   "source": [
    "# Merging DataFrames\n",
    "\n",
    "dfA = pd.DataFrame({'key': ['a', 'b', 'c'], 'value': [1, 2, 3]})\n",
    "dfB = pd.DataFrame({'key': ['a', 'b', 'c'], 'result': [4, 5, 6]})\n",
    "\n",
    "print(dfA)\n",
    "print(dfB)"
   ]
  },
  {
   "cell_type": "code",
   "execution_count": 106,
   "id": "f1b3de94",
   "metadata": {},
   "outputs": [
    {
     "data": {
      "text/html": [
       "<div>\n",
       "<style scoped>\n",
       "    .dataframe tbody tr th:only-of-type {\n",
       "        vertical-align: middle;\n",
       "    }\n",
       "\n",
       "    .dataframe tbody tr th {\n",
       "        vertical-align: top;\n",
       "    }\n",
       "\n",
       "    .dataframe thead th {\n",
       "        text-align: right;\n",
       "    }\n",
       "</style>\n",
       "<table border=\"1\" class=\"dataframe\">\n",
       "  <thead>\n",
       "    <tr style=\"text-align: right;\">\n",
       "      <th></th>\n",
       "      <th>key</th>\n",
       "      <th>value</th>\n",
       "      <th>result</th>\n",
       "    </tr>\n",
       "  </thead>\n",
       "  <tbody>\n",
       "    <tr>\n",
       "      <th>0</th>\n",
       "      <td>a</td>\n",
       "      <td>1</td>\n",
       "      <td>4</td>\n",
       "    </tr>\n",
       "    <tr>\n",
       "      <th>1</th>\n",
       "      <td>b</td>\n",
       "      <td>2</td>\n",
       "      <td>5</td>\n",
       "    </tr>\n",
       "    <tr>\n",
       "      <th>2</th>\n",
       "      <td>c</td>\n",
       "      <td>3</td>\n",
       "      <td>6</td>\n",
       "    </tr>\n",
       "  </tbody>\n",
       "</table>\n",
       "</div>"
      ],
      "text/plain": [
       "  key  value  result\n",
       "0   a      1       4\n",
       "1   b      2       5\n",
       "2   c      3       6"
      ]
     },
     "execution_count": 106,
     "metadata": {},
     "output_type": "execute_result"
    }
   ],
   "source": [
    "pd.merge(dfA, dfB, on='key', how='inner')"
   ]
  },
  {
   "cell_type": "code",
   "execution_count": 110,
   "id": "914425bb",
   "metadata": {},
   "outputs": [
    {
     "name": "stdout",
     "output_type": "stream",
     "text": [
      "  key  value\n",
      "0   a      1\n",
      "1   b      2\n",
      "2   c      3\n",
      "  key  result\n",
      "0   a       4\n",
      "1   b       5\n",
      "2   d       6\n",
      "  key  value  result\n",
      "0   a    1.0     4.0\n",
      "1   b    2.0     5.0\n",
      "2   c    3.0     NaN\n",
      "3   d    NaN     6.0\n",
      "  key  value  result\n",
      "0   a      1     4.0\n",
      "1   b      2     5.0\n",
      "2   c      3     NaN\n",
      "  key  value  result\n",
      "0   a    1.0       4\n",
      "1   b    2.0       5\n",
      "2   d    NaN       6\n"
     ]
    }
   ],
   "source": [
    "dfA = pd.DataFrame({'key': ['a', 'b', 'c'], 'value': [1, 2, 3]})\n",
    "dfB = pd.DataFrame({'key': ['a', 'b', 'd'], 'result': [4, 5, 6]})\n",
    "\n",
    "print(dfA)\n",
    "print(dfB)\n",
    "\n",
    "print(pd.merge(dfA, dfB, on='key', how = 'outer'))\n",
    "print(pd.merge(dfA, dfB, on='key', how = 'left'))\n",
    "print(pd.merge(dfA, dfB, on='key', how = 'right'))"
   ]
  },
  {
   "cell_type": "code",
   "execution_count": 117,
   "id": "4253ff5d",
   "metadata": {},
   "outputs": [],
   "source": [
    "# Loading data sources\n",
    "\n",
    "url = \"https://www.fdic.gov/resources/resolutions/bank-failures/failed-bank-list\"\n",
    "failed_bank = pd.read_html(url)"
   ]
  },
  {
   "cell_type": "code",
   "execution_count": 120,
   "id": "8d55dc8c",
   "metadata": {},
   "outputs": [
    {
     "name": "stdout",
     "output_type": "stream",
     "text": [
      "[                               Bank Name           City         State   Cert  \\\n",
      "0           The Santa Anna National Bank     Santa Anna         Texas   5520   \n",
      "1                   Pulaski Savings Bank        Chicago      Illinois  28611   \n",
      "2     The First National Bank of Lindsay        Lindsay      Oklahoma   4134   \n",
      "3  Republic First Bank dba Republic Bank   Philadelphia  Pennsylvania  27332   \n",
      "4                          Citizens Bank       Sac City          Iowa   8758   \n",
      "5               Heartland Tri-State Bank        Elkhart        Kansas  25851   \n",
      "6                    First Republic Bank  San Francisco    California  59017   \n",
      "7                         Signature Bank       New York      New York  57053   \n",
      "8                    Silicon Valley Bank    Santa Clara    California  24735   \n",
      "9                      Almena State Bank         Almena        Kansas  15426   \n",
      "\n",
      "                 Acquiring Institution      Closing Date  Fund  Sort ascending  \n",
      "0            Coleman County State Bank     June 27, 2025                 10549  \n",
      "1                      Millennium Bank  January 17, 2025                 10548  \n",
      "2   First Bank & Trust Co., Duncan, OK  October 18, 2024                 10547  \n",
      "3    Fulton Bank, National Association    April 26, 2024                 10546  \n",
      "4            Iowa Trust & Savings Bank  November 3, 2023                 10545  \n",
      "5               Dream First Bank, N.A.     July 28, 2023                 10544  \n",
      "6            JPMorgan Chase Bank, N.A.       May 1, 2023                 10543  \n",
      "7                  Flagstar Bank, N.A.    March 12, 2023                 10540  \n",
      "8  First Citizens Bank & Trust Company    March 10, 2023                 10539  \n",
      "9                          Equity Bank  October 23, 2020                 10538  ]\n"
     ]
    }
   ],
   "source": [
    "print(failed_bank)"
   ]
  },
  {
   "cell_type": "code",
   "execution_count": 121,
   "id": "7b77d850",
   "metadata": {},
   "outputs": [],
   "source": [
    "url = 'https://en.wikipedia.org/wiki/Mobile_country_code'\n",
    "mobile_country_code = pd.read_html(url, match = 'Country', header = 0)"
   ]
  },
  {
   "cell_type": "code",
   "execution_count": 122,
   "id": "fe4f524d",
   "metadata": {},
   "outputs": [
    {
     "name": "stdout",
     "output_type": "stream",
     "text": [
      "[     Mobile country code                                    Country ISO 3166  \\\n",
      "0                    289                                 A Abkhazia    GE-AB   \n",
      "1                    412                                Afghanistan       AF   \n",
      "2                    276                                    Albania       AL   \n",
      "3                    603                                    Algeria       DZ   \n",
      "4                    544  American Samoa (United States of America)       AS   \n",
      "..                   ...                                        ...      ...   \n",
      "247                  452                                    Vietnam       VN   \n",
      "248                  543                        W Wallis and Futuna       WF   \n",
      "249                  421                                    Y Yemen       YE   \n",
      "250                  645                                   Z Zambia       ZM   \n",
      "251                  648                                   Zimbabwe       ZW   \n",
      "\n",
      "                                  Mobile network codes National MNC authority  \\\n",
      "0             List of mobile network codes in Abkhazia                    NaN   \n",
      "1          List of mobile network codes in Afghanistan                    NaN   \n",
      "2              List of mobile network codes in Albania                    NaN   \n",
      "3              List of mobile network codes in Algeria                    NaN   \n",
      "4       List of mobile network codes in American Samoa                    NaN   \n",
      "..                                                 ...                    ...   \n",
      "247        List of mobile network codes in the Vietnam                    NaN   \n",
      "248  List of mobile network codes in Wallis and Futuna                    NaN   \n",
      "249          List of mobile network codes in the Yemen                    NaN   \n",
      "250             List of mobile network codes in Zambia                    NaN   \n",
      "251           List of mobile network codes in Zimbabwe                    NaN   \n",
      "\n",
      "                      Remarks  \n",
      "0    MCC is not listed by ITU  \n",
      "1                         NaN  \n",
      "2                         NaN  \n",
      "3                         NaN  \n",
      "4                         NaN  \n",
      "..                        ...  \n",
      "247                       NaN  \n",
      "248                       NaN  \n",
      "249                       NaN  \n",
      "250                       NaN  \n",
      "251                       NaN  \n",
      "\n",
      "[252 rows x 6 columns]]\n"
     ]
    }
   ],
   "source": [
    "print(mobile_country_code)"
   ]
  },
  {
   "cell_type": "code",
   "execution_count": null,
   "id": "59d12c0e",
   "metadata": {},
   "outputs": [],
   "source": []
  }
 ],
 "metadata": {
  "kernelspec": {
   "display_name": ".venv",
   "language": "python",
   "name": "python3"
  },
  "language_info": {
   "codemirror_mode": {
    "name": "ipython",
    "version": 3
   },
   "file_extension": ".py",
   "mimetype": "text/x-python",
   "name": "python",
   "nbconvert_exporter": "python",
   "pygments_lexer": "ipython3",
   "version": "3.13.1"
  }
 },
 "nbformat": 4,
 "nbformat_minor": 5
}
