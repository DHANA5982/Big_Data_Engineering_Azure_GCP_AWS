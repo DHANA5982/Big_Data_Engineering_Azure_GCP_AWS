{
 "cells": [
  {
   "cell_type": "markdown",
   "id": "f8ce1b04",
   "metadata": {},
   "source": [
    "# Pandas"
   ]
  },
  {
   "cell_type": "code",
   "execution_count": 2,
   "id": "7068fa16",
   "metadata": {},
   "outputs": [],
   "source": [
    "import pandas as pd"
   ]
  },
  {
   "cell_type": "code",
   "execution_count": 3,
   "id": "f42649b5",
   "metadata": {},
   "outputs": [
    {
     "name": "stdout",
     "output_type": "stream",
     "text": [
      "0    1\n",
      "1    2\n",
      "2    3\n",
      "3    4\n",
      "4    5\n",
      "dtype: int64\n",
      "<class 'pandas.core.series.Series'>\n"
     ]
    }
   ],
   "source": [
    "numbers = [1, 2, 3, 4, 5]\n",
    "series = pd.Series(numbers)\n",
    "print(series)\n",
    "print(type(series))"
   ]
  },
  {
   "cell_type": "code",
   "execution_count": 4,
   "id": "e81eec45",
   "metadata": {},
   "outputs": [
    {
     "name": "stdout",
     "output_type": "stream",
     "text": [
      "a    1\n",
      "b    2\n",
      "c    3\n",
      "d    4\n",
      "dtype: int64\n"
     ]
    }
   ],
   "source": [
    "dictionary = {'a':1, 'b': 2, 'c': 3, 'd': 4}\n",
    "series1 = pd.Series(dictionary)\n",
    "print(series1)"
   ]
  },
  {
   "cell_type": "code",
   "execution_count": 5,
   "id": "0a36ee6c",
   "metadata": {},
   "outputs": [
    {
     "name": "stdout",
     "output_type": "stream",
     "text": [
      "India       4.18\n",
      "Germany     4.90\n",
      "China      19.00\n",
      "Ameria     30.10\n",
      "dtype: float64\n"
     ]
    }
   ],
   "source": [
    "gdp = [4.18, 4.9, 19, 30.1]\n",
    "country = ['India', 'Germany', 'China', 'Ameria']\n",
    "print(pd.Series(data = gdp, index = country))"
   ]
  },
  {
   "cell_type": "code",
   "execution_count": 6,
   "id": "bea7b4d9",
   "metadata": {},
   "outputs": [
    {
     "name": "stdout",
     "output_type": "stream",
     "text": [
      "      Name  Country      Occupation\n",
      "0    dhana    India  Data Scientist\n",
      "1  azzizat  Nigeria          Police\n",
      "2  kennady  Nigeria       Helthcare\n",
      "3      ana   Mexico       Lecturare\n",
      "<class 'pandas.core.frame.DataFrame'>\n"
     ]
    }
   ],
   "source": [
    "# DataFrame from a dictionary of list\n",
    "\n",
    "data = {'Name' :['dhana', 'azzizat', 'kennady', 'ana'],\n",
    "        'Country' : ['India', 'Nigeria', 'Nigeria', 'Mexico'],\n",
    "        'Occupation': ['Data Scientist', 'Police' ,'Helthcare', 'Lecturare']}\n",
    "\n",
    "df = pd.DataFrame(data)\n",
    "print(df)\n",
    "print(type(df))"
   ]
  },
  {
   "cell_type": "code",
   "execution_count": 7,
   "id": "f5a3bd0c",
   "metadata": {},
   "outputs": [
    {
     "name": "stdout",
     "output_type": "stream",
     "text": [
      "      Name  Country        Occupation\n",
      "0    Dhana    India    Data Scientist\n",
      "1  Azzizat  Nigeria            Police\n",
      "2  Kennady  Nigeria  Helthcare Worker\n",
      "3      Ana   Mexico         Lecturare\n"
     ]
    }
   ],
   "source": [
    "data = [{'Name': 'Dhana', 'Country': 'India', 'Occupation': 'Data Scientist'},\n",
    "        {'Name': 'Azzizat', 'Country': 'Nigeria', 'Occupation': 'Police'},\n",
    "        {'Name': 'Kennady', 'Country': 'Nigeria', 'Occupation': 'Helthcare Worker'},\n",
    "        {'Name': 'Ana', 'Country': 'Mexico', 'Occupation':'Lecturare'}]\n",
    "df = pd.DataFrame(data)\n",
    "print(df)"
   ]
  },
  {
   "cell_type": "code",
   "execution_count": 8,
   "id": "0c714850",
   "metadata": {},
   "outputs": [
    {
     "name": "stdout",
     "output_type": "stream",
     "text": [
      "      Name  Country        Occupation\n",
      "0    Dhana    India    Data Scientist\n",
      "1  Azzizat  Nigeria            Police\n",
      "2  Kennady  Nigeria  Helthcare Worker\n",
      "3      Ana   Mexico         Lecturare\n",
      "      Name  Country        Occupation\n",
      "0    Dhana    India    Data Scientist\n",
      "1  Azzizat  Nigeria            Police\n",
      "2  Kennady  Nigeria  Helthcare Worker\n",
      "3      Ana   Mexico         Lecturare\n"
     ]
    }
   ],
   "source": [
    "df1 = pd.read_csv('data.csv')\n",
    "print(df.head())\n",
    "print(df.tail())"
   ]
  },
  {
   "cell_type": "code",
   "execution_count": 9,
   "id": "ecbcc0a0",
   "metadata": {},
   "outputs": [
    {
     "name": "stdout",
     "output_type": "stream",
     "text": [
      "0      Dhana\n",
      "1    Azzizat\n",
      "2    Kennady\n",
      "3        Ana\n",
      "Name: Name, dtype: object\n"
     ]
    }
   ],
   "source": [
    "print(df['Name'])"
   ]
  },
  {
   "cell_type": "code",
   "execution_count": 10,
   "id": "48d46052",
   "metadata": {},
   "outputs": [
    {
     "name": "stdout",
     "output_type": "stream",
     "text": [
      "Azzizat\n"
     ]
    }
   ],
   "source": [
    "# Accessing specified elements\n",
    "\n",
    "print(df.at[1, 'Name'])"
   ]
  },
  {
   "cell_type": "code",
   "execution_count": 11,
   "id": "252f0b56",
   "metadata": {},
   "outputs": [
    {
     "name": "stdout",
     "output_type": "stream",
     "text": [
      "Mexico\n"
     ]
    }
   ],
   "source": [
    "print(df.at[3, 'Country'])"
   ]
  },
  {
   "cell_type": "code",
   "execution_count": 12,
   "id": "5c341fec",
   "metadata": {},
   "outputs": [
    {
     "name": "stdout",
     "output_type": "stream",
     "text": [
      "Police\n"
     ]
    }
   ],
   "source": [
    "print(df.iat[1, 2])"
   ]
  },
  {
   "cell_type": "code",
   "execution_count": 13,
   "id": "435df382",
   "metadata": {},
   "outputs": [
    {
     "name": "stdout",
     "output_type": "stream",
     "text": [
      "      Name  Country        Occupation  Salary\n",
      "0    Dhana    India    Data Scientist  100000\n",
      "1  Azzizat  Nigeria            Police   40000\n",
      "2  Kennady  Nigeria  Helthcare Worker   30000\n",
      "3      Ana   Mexico         Lecturare   40000\n"
     ]
    }
   ],
   "source": [
    "# Data Manipulation\n",
    "\n",
    "df['Salary'] = [100000, 40000, 30000, 40000]\n",
    "print(df)"
   ]
  },
  {
   "cell_type": "code",
   "execution_count": null,
   "id": "68c52414",
   "metadata": {},
   "outputs": [
    {
     "name": "stdout",
     "output_type": "stream",
     "text": [
      "      Name  Country        Occupation\n",
      "0    Dhana    India    Data Scientist\n",
      "1  Azzizat  Nigeria            Police\n",
      "2  Kennady  Nigeria  Helthcare Worker\n",
      "3      Ana   Mexico         Lecturare\n"
     ]
    }
   ],
   "source": [
    "df.drop('Salary', axis=1, inplace= True)\n",
    "print(df)"
   ]
  },
  {
   "cell_type": "code",
   "execution_count": 19,
   "id": "cd8e8d00",
   "metadata": {},
   "outputs": [],
   "source": [
    "df.drop(0, inplace=True)"
   ]
  },
  {
   "cell_type": "code",
   "execution_count": 20,
   "id": "3b9b4e07",
   "metadata": {},
   "outputs": [
    {
     "name": "stdout",
     "output_type": "stream",
     "text": [
      "      Name  Country        Occupation\n",
      "1  Azzizat  Nigeria            Police\n",
      "2  Kennady  Nigeria  Helthcare Worker\n",
      "3      Ana   Mexico         Lecturare\n"
     ]
    }
   ],
   "source": [
    "print(df)"
   ]
  },
  {
   "cell_type": "code",
   "execution_count": 22,
   "id": "f44cdcf3",
   "metadata": {},
   "outputs": [
    {
     "name": "stdout",
     "output_type": "stream",
     "text": [
      "<class 'pandas.core.frame.DataFrame'>\n",
      "RangeIndex: 50 entries, 0 to 49\n",
      "Data columns (total 6 columns):\n",
      " #   Column    Non-Null Count  Dtype  \n",
      "---  ------    --------------  -----  \n",
      " 0   Date      50 non-null     object \n",
      " 1   Category  50 non-null     object \n",
      " 2   Value     47 non-null     float64\n",
      " 3   Product   50 non-null     object \n",
      " 4   Sales     46 non-null     float64\n",
      " 5   Region    50 non-null     object \n",
      "dtypes: float64(2), object(4)\n",
      "memory usage: 2.5+ KB\n",
      "None\n"
     ]
    }
   ],
   "source": [
    "print(df1.info())"
   ]
  },
  {
   "cell_type": "code",
   "execution_count": 24,
   "id": "63dff18c",
   "metadata": {},
   "outputs": [
    {
     "name": "stdout",
     "output_type": "stream",
     "text": [
      "Date         object\n",
      "Category     object\n",
      "Value       float64\n",
      "Product      object\n",
      "Sales       float64\n",
      "Region       object\n",
      "dtype: object\n"
     ]
    }
   ],
   "source": [
    "print(df1.dtypes)"
   ]
  },
  {
   "cell_type": "code",
   "execution_count": 25,
   "id": "62591562",
   "metadata": {},
   "outputs": [
    {
     "name": "stdout",
     "output_type": "stream",
     "text": [
      "           Value       Sales\n",
      "count  47.000000   46.000000\n",
      "mean   51.744681  557.130435\n",
      "std    29.050532  274.598584\n",
      "min     2.000000  108.000000\n",
      "25%    27.500000  339.000000\n",
      "50%    54.000000  591.500000\n",
      "75%    70.000000  767.500000\n",
      "max    99.000000  992.000000\n"
     ]
    }
   ],
   "source": [
    "print(df1.describe())"
   ]
  }
 ],
 "metadata": {
  "kernelspec": {
   "display_name": ".venv",
   "language": "python",
   "name": "python3"
  },
  "language_info": {
   "codemirror_mode": {
    "name": "ipython",
    "version": 3
   },
   "file_extension": ".py",
   "mimetype": "text/x-python",
   "name": "python",
   "nbconvert_exporter": "python",
   "pygments_lexer": "ipython3",
   "version": "3.13.1"
  }
 },
 "nbformat": 4,
 "nbformat_minor": 5
}
