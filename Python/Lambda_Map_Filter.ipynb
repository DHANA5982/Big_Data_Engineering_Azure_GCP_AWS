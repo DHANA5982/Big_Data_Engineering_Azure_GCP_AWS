{
 "cells": [
  {
   "cell_type": "markdown",
   "id": "cac0a32b",
   "metadata": {},
   "source": [
    "# Lambda"
   ]
  },
  {
   "cell_type": "code",
   "execution_count": 5,
   "id": "1d375c46",
   "metadata": {},
   "outputs": [
    {
     "name": "stdout",
     "output_type": "stream",
     "text": [
      "9\n"
     ]
    }
   ],
   "source": [
    "# Basic Addition\n",
    "\n",
    "addition = lambda a, b: a + b\n",
    "print(addition(4, 5))"
   ]
  },
  {
   "cell_type": "markdown",
   "id": "b8fa7685",
   "metadata": {},
   "source": [
    "# Map"
   ]
  },
  {
   "cell_type": "code",
   "execution_count": null,
   "id": "eb4476c7",
   "metadata": {},
   "outputs": [
    {
     "name": "stdout",
     "output_type": "stream",
     "text": [
      "[1, 4, 9, 16, 25, 36]\n"
     ]
    }
   ],
   "source": [
    "# Basic Square\n",
    "\n",
    "number = [1, 2, 3, 4, 5, 6]\n",
    "print(list(map(lambda x:x*x, number)))"
   ]
  },
  {
   "cell_type": "code",
   "execution_count": 7,
   "id": "33060d45",
   "metadata": {},
   "outputs": [
    {
     "name": "stdout",
     "output_type": "stream",
     "text": [
      "[5, 7, 9]\n"
     ]
    }
   ],
   "source": [
    "# Addition of two or more lists\n",
    "\n",
    "mat1 = [1, 2, 3]\n",
    "mat2 = [4, 5, 6]\n",
    "\n",
    "print(list(map(lambda x, y: x+y, mat1, mat2)))"
   ]
  },
  {
   "cell_type": "code",
   "execution_count": 9,
   "id": "965ddf4a",
   "metadata": {},
   "outputs": [
    {
     "name": "stdout",
     "output_type": "stream",
     "text": [
      "[1.0, 2.0, 3.0, 4.0, 5.0]\n",
      "[1, 2, 3, 4]\n"
     ]
    }
   ],
   "source": [
    "# Conver datatypes\n",
    "\n",
    "integer = [1, 2, 3, 4, 5]\n",
    "print(list(map(float, integer)))\n",
    "\n",
    "str_num = ['1', '2', '3', '4']\n",
    "print(list(map(int, str_num)))"
   ]
  },
  {
   "cell_type": "code",
   "execution_count": 10,
   "id": "7dd19611",
   "metadata": {},
   "outputs": [
    {
     "name": "stdout",
     "output_type": "stream",
     "text": [
      "['APPLE', 'BANANA', 'CHERRY']\n"
     ]
    }
   ],
   "source": [
    "fruits = ['apple','banana', 'cherry']\n",
    "print(list(map(str.upper, fruits)))"
   ]
  },
  {
   "cell_type": "code",
   "execution_count": 17,
   "id": "0c4ca91d",
   "metadata": {},
   "outputs": [
    {
     "name": "stdout",
     "output_type": "stream",
     "text": [
      "['dhana', 'noor', 'johnson']\n"
     ]
    }
   ],
   "source": [
    "bio_data = [\n",
    "    {'name': 'dhana', 'country': 'india'},\n",
    "    {'name': 'noor', 'country': 'pakistan'},\n",
    "    {'name': 'johnson', 'country': 'nigeria'}\n",
    "]\n",
    "\n",
    "print(list(map(lambda x: x['name'], bio_data)))"
   ]
  },
  {
   "cell_type": "markdown",
   "id": "ddc18025",
   "metadata": {},
   "source": [
    "# Filter"
   ]
  },
  {
   "cell_type": "code",
   "execution_count": null,
   "id": "36ccbe5c",
   "metadata": {},
   "outputs": [
    {
     "name": "stdout",
     "output_type": "stream",
     "text": [
      "[2, 4, 6, 8, 10]\n"
     ]
    }
   ],
   "source": [
    "# Even number filter\n",
    "\n",
    "numbers = [1, 2, 3, 4, 5, 6, 7, 8, 9, 10]\n",
    "print(list(filter(lambda x: x%2==0, numbers)))"
   ]
  },
  {
   "cell_type": "code",
   "execution_count": 15,
   "id": "13316a02",
   "metadata": {},
   "outputs": [
    {
     "name": "stdout",
     "output_type": "stream",
     "text": [
      "[6, 7, 8, 9, 10]\n"
     ]
    }
   ],
   "source": [
    "# Greater than 5 \n",
    "\n",
    "print(list(filter(lambda x: x> 5, numbers)))"
   ]
  },
  {
   "cell_type": "code",
   "execution_count": 16,
   "id": "632fcd64",
   "metadata": {},
   "outputs": [
    {
     "name": "stdout",
     "output_type": "stream",
     "text": [
      "[7, 9]\n"
     ]
    }
   ],
   "source": [
    "# Multiple Condition\n",
    "# Odd and Greater than 5 \n",
    "\n",
    "print(list(filter(lambda x:x>5 and x%2!=0, numbers)))"
   ]
  },
  {
   "cell_type": "code",
   "execution_count": 21,
   "id": "0e90d554",
   "metadata": {},
   "outputs": [
    {
     "name": "stdout",
     "output_type": "stream",
     "text": [
      "[{'name': 'dhana', 'mark': 81}, {'name': 'johnson', 'mark': 83}]\n"
     ]
    }
   ],
   "source": [
    "marks = [\n",
    "    {'name': 'dhana', 'mark': 81},\n",
    "    {'name': 'noor', 'mark': 78},\n",
    "    {'name': 'johnson', 'mark': 83}\n",
    "]\n",
    "\n",
    "print(list(filter(lambda x:x['mark']>80, marks)))"
   ]
  },
  {
   "cell_type": "code",
   "execution_count": null,
   "metadata": {},
   "outputs": [],
   "source": []
  }
 ],
 "metadata": {
  "kernelspec": {
   "display_name": ".venv",
   "language": "python",
   "name": "python3"
  },
  "language_info": {
   "codemirror_mode": {
    "name": "ipython",
    "version": 3
   },
   "file_extension": ".py",
   "mimetype": "text/x-python",
   "name": "python",
   "nbconvert_exporter": "python",
   "pygments_lexer": "ipython3",
   "version": "3.13.1"
  }
 },
 "nbformat": 4,
 "nbformat_minor": 5
}
