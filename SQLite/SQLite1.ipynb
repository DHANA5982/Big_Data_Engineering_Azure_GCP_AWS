{
 "cells": [
  {
   "cell_type": "markdown",
   "id": "ec849da4",
   "metadata": {},
   "source": [
    "# SQLite"
   ]
  },
  {
   "cell_type": "code",
   "execution_count": 1,
   "id": "4ca2f8cf",
   "metadata": {},
   "outputs": [],
   "source": [
    "import sqlite3"
   ]
  },
  {
   "cell_type": "code",
   "execution_count": null,
   "id": "0c3fe486",
   "metadata": {},
   "outputs": [
    {
     "data": {
      "text/plain": [
       "<sqlite3.Connection at 0x12effbcfd30>"
      ]
     },
     "execution_count": 2,
     "metadata": {},
     "output_type": "execute_result"
    }
   ],
   "source": [
    "# Create a connection to databases\n",
    "\n",
    "con = sqlite3.connect('example.db')\n",
    "con"
   ]
  },
  {
   "cell_type": "code",
   "execution_count": null,
   "id": "4006b8c8",
   "metadata": {},
   "outputs": [],
   "source": [
    "# Create a cursor to execute queries\n",
    "\n",
    "cursor = con.cursor()"
   ]
  },
  {
   "cell_type": "code",
   "execution_count": null,
   "id": "dbcd6d5a",
   "metadata": {},
   "outputs": [],
   "source": [
    "# SQL query\n",
    "\n",
    "cursor.execute('''\n",
    "CREATE TABLE IF NOT EXISTS Employees(\n",
    "    Id INT PRIMARY KEY,\n",
    "    Name TEXT NOT NULL, \n",
    "    Salary INT,\n",
    "    Country TEXT \n",
    ")\n",
    "''')\n",
    "\n",
    "# Commit changes to the databases\n",
    "\n",
    "con.commit()"
   ]
  },
  {
   "cell_type": "code",
   "execution_count": 5,
   "id": "8ca0e97e",
   "metadata": {},
   "outputs": [
    {
     "data": {
      "text/plain": [
       "<sqlite3.Cursor at 0x12effe016c0>"
      ]
     },
     "execution_count": 5,
     "metadata": {},
     "output_type": "execute_result"
    }
   ],
   "source": [
    "cursor.execute('''\n",
    "SELECT * FROM Employees\n",
    "''')"
   ]
  },
  {
   "cell_type": "code",
   "execution_count": 7,
   "id": "f5f00975",
   "metadata": {},
   "outputs": [],
   "source": [
    "cursor.execute('''\n",
    "INSERT INTO Employees (Name, Salary, Country) VALUES\n",
    "('Dhanasekar', 1000000, 'India')\n",
    "''')\n",
    "\n",
    "con.commit()"
   ]
  },
  {
   "cell_type": "code",
   "execution_count": 9,
   "id": "a70aa27d",
   "metadata": {},
   "outputs": [
    {
     "name": "stdout",
     "output_type": "stream",
     "text": [
      "(None, 'Dhanasekar', 1000000, 'India')\n"
     ]
    }
   ],
   "source": [
    "cursor.execute('''\n",
    "SELECT * FROM Employees\n",
    "''')\n",
    "\n",
    "# Fetching result from output\n",
    "rows = cursor.fetchall()\n",
    "\n",
    "for row in rows:\n",
    "    print(row)"
   ]
  },
  {
   "cell_type": "code",
   "execution_count": 10,
   "id": "1b52a678",
   "metadata": {},
   "outputs": [
    {
     "name": "stdout",
     "output_type": "stream",
     "text": [
      "(None, 'Dhanasekar', 100000, 'India')\n"
     ]
    }
   ],
   "source": [
    "cursor.execute('''\n",
    "UPDATE Employees \n",
    "SET Salary = 100000''')\n",
    "\n",
    "con.commit()\n",
    "\n",
    "cursor.execute('''\n",
    "SELECT * FROM Employees\n",
    "''')\n",
    "\n",
    "rows = cursor.fetchall()\n",
    "\n",
    "for row in rows:\n",
    "    print(row)"
   ]
  },
  {
   "cell_type": "code",
   "execution_count": 12,
   "id": "fce3d2a1",
   "metadata": {},
   "outputs": [],
   "source": [
    "cursor.execute('''\n",
    "DELETE FROM Employees\n",
    "WHERE Name = 'Dhanasekar'\n",
    "''')\n",
    "\n",
    "con.commit()\n",
    "\n",
    "cursor.execute('''\n",
    "SELECT * FROM Employees\n",
    "''')\n",
    "\n",
    "rows = cursor.fetchall()\n",
    "\n",
    "for row in rows:\n",
    "    print(row)"
   ]
  },
  {
   "cell_type": "code",
   "execution_count": 14,
   "id": "0cdecf23",
   "metadata": {},
   "outputs": [
    {
     "name": "stdout",
     "output_type": "stream",
     "text": [
      "(1, 'Dhanasekar', 100000, 'India')\n",
      "(2, 'Azzizat', 40000, 'Nigeria')\n",
      "(3, 'Kennady', 40000, 'Nigeria')\n",
      "(4, 'Ana', 30000, 'Maxico')\n"
     ]
    }
   ],
   "source": [
    "emp = [ (1, 'Dhanasekar', 100000, 'India'),\n",
    "        (2, 'Azzizat', 40000, 'Nigeria'),\n",
    "        (3, 'Kennady', 40000, 'Nigeria'),\n",
    "        (4, 'Ana', 30000, 'Maxico')]\n",
    "\n",
    "cursor.executemany('''\n",
    "INSERT INTO Employees VALUES (?, ?, ?, ?)\n",
    "''', emp)\n",
    "\n",
    "con.commit()\n",
    "\n",
    "cursor.execute('''\n",
    "SELECT * FROM Employees\n",
    "''')\n",
    "\n",
    "rows = cursor.fetchall()\n",
    "\n",
    "for row in rows:\n",
    "    print(row)"
   ]
  },
  {
   "cell_type": "code",
   "execution_count": 15,
   "id": "bc6d3cd8",
   "metadata": {},
   "outputs": [],
   "source": [
    "# close the connection of the databases\n",
    "\n",
    "con.close()"
   ]
  }
 ],
 "metadata": {
  "kernelspec": {
   "display_name": ".venv",
   "language": "python",
   "name": "python3"
  },
  "language_info": {
   "codemirror_mode": {
    "name": "ipython",
    "version": 3
   },
   "file_extension": ".py",
   "mimetype": "text/x-python",
   "name": "python",
   "nbconvert_exporter": "python",
   "pygments_lexer": "ipython3",
   "version": "3.13.1"
  }
 },
 "nbformat": 4,
 "nbformat_minor": 5
}
