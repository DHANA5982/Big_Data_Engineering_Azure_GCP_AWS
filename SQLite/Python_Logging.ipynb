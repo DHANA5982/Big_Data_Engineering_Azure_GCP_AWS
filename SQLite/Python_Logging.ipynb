{
 "cells": [
  {
   "cell_type": "markdown",
   "id": "c5cdc99b",
   "metadata": {},
   "source": [
    "# Python Logging"
   ]
  },
  {
   "cell_type": "code",
   "execution_count": 1,
   "id": "71fad56a",
   "metadata": {},
   "outputs": [],
   "source": [
    "import logging"
   ]
  },
  {
   "cell_type": "code",
   "execution_count": null,
   "id": "7137b453",
   "metadata": {},
   "outputs": [],
   "source": [
    "# Configure basic logging settings\n",
    "\n",
    "logging.basicConfig(level=logging.DEBUG)"
   ]
  },
  {
   "cell_type": "code",
   "execution_count": null,
   "id": "9f0123d2",
   "metadata": {},
   "outputs": [],
   "source": [
    "# Configure logging settings\n",
    "\n",
    "logging.basicConfig(\n",
    "    filename = 'app.log',\n",
    "    filemode = 'w',\n",
    "    level = logging.DEBUG,\n",
    "    format = '%(asctime)s - %(name)s - %(levelname)s - %(message)s',\n",
    "    datefmt = '%Y-%m-%d %H:%M:%S'\n",
    "    )"
   ]
  },
  {
   "cell_type": "code",
   "execution_count": 7,
   "id": "394c4084",
   "metadata": {},
   "outputs": [],
   "source": [
    "# log messages with different severity levels\n",
    "logging.debug('This is a debug message.')\n",
    "logging.info('This is an info message.')\n",
    "logging.warning('This is a warning message.')\n",
    "logging.error('This is a error message.')\n",
    "logging.critical('This is a critical message.')"
   ]
  },
  {
   "cell_type": "code",
   "execution_count": 1,
   "id": "16135fc5",
   "metadata": {},
   "outputs": [],
   "source": [
    "# Multiple logging\n",
    "\n",
    "import logging\n",
    "\n",
    "logger1 = logging.getLogger('module1')\n",
    "logger1.setLevel(logging.DEBUG)\n",
    "\n",
    "logger2 = logging.getLogger('module2')\n",
    "logger2.setLevel(logging.WARNING)\n",
    "\n",
    "logging.basicConfig(\n",
    "    filename = 'app.log',\n",
    "    filemode = 'w',\n",
    "    level = logging.DEBUG,\n",
    "    format = '%(asctime)s - %(name)s - %(levelname)s - %(message)s',\n",
    "    datefmt = '%Y-%m-%d %H:%M:%S'\n",
    "    )"
   ]
  },
  {
   "cell_type": "code",
   "execution_count": 2,
   "id": "664d09ba",
   "metadata": {},
   "outputs": [],
   "source": [
    "logger1.debug('This is a debug message for module 1')\n",
    "logger2.warning('This is a warning for module 2')\n",
    "logger2.error('This is an error message for module 2')"
   ]
  }
 ],
 "metadata": {
  "kernelspec": {
   "display_name": ".venv",
   "language": "python",
   "name": "python3"
  },
  "language_info": {
   "codemirror_mode": {
    "name": "ipython",
    "version": 3
   },
   "file_extension": ".py",
   "mimetype": "text/x-python",
   "name": "python",
   "nbconvert_exporter": "python",
   "pygments_lexer": "ipython3",
   "version": "3.13.1"
  }
 },
 "nbformat": 4,
 "nbformat_minor": 5
}
