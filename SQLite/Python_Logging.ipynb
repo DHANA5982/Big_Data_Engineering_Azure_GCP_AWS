{
 "cells": [
  {
   "cell_type": "markdown",
   "id": "c5cdc99b",
   "metadata": {},
   "source": [
    "# Python Logging"
   ]
  },
  {
   "cell_type": "code",
   "execution_count": 1,
   "id": "71fad56a",
   "metadata": {},
   "outputs": [],
   "source": [
    "import logging"
   ]
  },
  {
   "cell_type": "code",
   "execution_count": 2,
   "id": "7137b453",
   "metadata": {},
   "outputs": [
    {
     "name": "stderr",
     "output_type": "stream",
     "text": [
      "DEBUG:root:This is a debug message.\n",
      "INFO:root:This is an info message.\n",
      "WARNING:root:This is a warning message.\n",
      "ERROR:root:This is a error message.\n",
      "CRITICAL:root:This is a critical message.\n"
     ]
    }
   ],
   "source": [
    "# configure basic logging settings\n",
    "\n",
    "logging.basicConfig(level=logging.DEBUG)\n",
    "\n",
    "# log messages with different severity levels\n",
    "logging.debug('This is a debug message.')\n",
    "logging.info('This is an info message.')\n",
    "logging.warning('This is a warning message.')\n",
    "logging.error('This is a error message.')\n",
    "logging.critical('This is a critical message.')"
   ]
  },
  {
   "cell_type": "code",
   "execution_count": null,
   "id": "9f0123d2",
   "metadata": {},
   "outputs": [],
   "source": []
  }
 ],
 "metadata": {
  "kernelspec": {
   "display_name": ".venv",
   "language": "python",
   "name": "python3"
  },
  "language_info": {
   "codemirror_mode": {
    "name": "ipython",
    "version": 3
   },
   "file_extension": ".py",
   "mimetype": "text/x-python",
   "name": "python",
   "nbconvert_exporter": "python",
   "pygments_lexer": "ipython3",
   "version": "3.13.1"
  }
 },
 "nbformat": 4,
 "nbformat_minor": 5
}
