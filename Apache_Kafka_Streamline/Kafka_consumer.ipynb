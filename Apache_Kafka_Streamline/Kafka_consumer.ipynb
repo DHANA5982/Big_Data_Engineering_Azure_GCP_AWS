{
 "cells": [
  {
   "cell_type": "markdown",
   "id": "e0790e7b",
   "metadata": {},
   "source": [
    "# Kafka Message Consuming"
   ]
  },
  {
   "cell_type": "code",
   "execution_count": 5,
   "id": "9fffd2ab",
   "metadata": {},
   "outputs": [],
   "source": [
    "from confluent_kafka import Consumer, KafkaError, KafkaException\n",
    "import json\n",
    "import time"
   ]
  },
  {
   "cell_type": "code",
   "execution_count": 7,
   "id": "5b369589",
   "metadata": {},
   "outputs": [],
   "source": [
    "def read_config():\n",
    "  # reads the client configuration from client.properties\n",
    "  # and returns it as a key-value map\n",
    "  config = {}\n",
    "  with open(\"client.properties\") as fh:\n",
    "    for line in fh:\n",
    "      line = line.strip()\n",
    "      if len(line) != 0 and line[0] != \"#\":\n",
    "        parameter, value = line.strip().split('=', 1)\n",
    "        config[parameter] = value.strip()\n",
    "  return config\n",
    "\n",
    "config = read_config()\n",
    "config[\"group.id\"] = \"customer_group\"\n",
    "config[\"auto.offset.reset\"] = \"earliest\"\n",
    "\n",
    "consumer = Consumer(config)"
   ]
  },
  {
   "cell_type": "code",
   "execution_count": 8,
   "id": "44368e44",
   "metadata": {},
   "outputs": [
    {
     "name": "stdout",
     "output_type": "stream",
     "text": [
      "Listening for messages, press ctrl + c in output cell to exit\n",
      "Recieved message: Key: 123 , value: {'1': 'purinjatha'}\n",
      "Interrupt by user, shutting dwon consumer\n"
     ]
    }
   ],
   "source": [
    "topic = 'ecommerce'\n",
    "consumer.subscribe([topic])\n",
    "\n",
    "def process_message(message):\n",
    "    try:\n",
    "        if message.error():\n",
    "            if(message.error.code()) == KafkaError._PARTITION_EOF:\n",
    "                print('End of partition reached {0}/{1}')\n",
    "            else:\n",
    "                raise KafkaException(message.error())\n",
    "        else:\n",
    "            key = message.key().decode('utf-8')\n",
    "            value = json.loads(message.value().decode('utf-8'))\n",
    "\n",
    "            print(f'Recieved message: Key: {key} , value: {value}')\n",
    "    except Exception as e:\n",
    "        print(f'Error consuming/processing message: {e}')\n",
    "\n",
    "# Poll Message Continously\n",
    "\n",
    "try:\n",
    "    print(f'Listening for messages, press ctrl + c in output cell to exit')\n",
    "\n",
    "    while True:\n",
    "        message = consumer.poll(timeout=1.0)\n",
    "        if (message):\n",
    "            process_message(message)\n",
    "except KeyboardInterrupt:\n",
    "    print('Interrupt by user, shutting dwon consumer')\n",
    "finally:\n",
    "    consumer.close()"
   ]
  }
 ],
 "metadata": {
  "kernelspec": {
   "display_name": ".venv",
   "language": "python",
   "name": "python3"
  },
  "language_info": {
   "codemirror_mode": {
    "name": "ipython",
    "version": 3
   },
   "file_extension": ".py",
   "mimetype": "text/x-python",
   "name": "python",
   "nbconvert_exporter": "python",
   "pygments_lexer": "ipython3",
   "version": "3.13.7"
  }
 },
 "nbformat": 4,
 "nbformat_minor": 5
}
