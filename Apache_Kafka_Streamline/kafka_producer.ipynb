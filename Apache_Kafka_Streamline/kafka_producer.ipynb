{
 "cells": [
  {
   "cell_type": "markdown",
   "id": "4e037389",
   "metadata": {},
   "source": [
    "# Kafka Message Generation"
   ]
  },
  {
   "cell_type": "code",
   "execution_count": 1,
   "id": "8c9dcb95",
   "metadata": {},
   "outputs": [],
   "source": [
    "from confluent_kafka import Producer\n",
    "import pandas as pd\n",
    "import json\n",
    "import time\n",
    "import os"
   ]
  },
  {
   "cell_type": "code",
   "execution_count": 3,
   "id": "45a06e8c",
   "metadata": {},
   "outputs": [
    {
     "data": {
      "text/plain": [
       "Index(['customer_id', 'name', 'city', 'state', 'country', 'registration_date',\n",
       "       'is_active'],\n",
       "      dtype='object')"
      ]
     },
     "execution_count": 3,
     "metadata": {},
     "output_type": "execute_result"
    }
   ],
   "source": [
    "df =pd.read_csv('D:/GitHub/Data Engineer/data/raw/customers_100.csv')\n",
    "\n",
    "df.columns"
   ]
  },
  {
   "cell_type": "markdown",
   "id": "2f9c1235",
   "metadata": {},
   "source": [
    "### Convert local data file into a json file to stream on KAFKA"
   ]
  },
  {
   "cell_type": "code",
   "execution_count": 4,
   "id": "a091139b",
   "metadata": {},
   "outputs": [
    {
     "name": "stdout",
     "output_type": "stream",
     "text": [
      "file converted\n"
     ]
    }
   ],
   "source": [
    "json_detail = df.to_dict(orient='records')\n",
    "json_file = 'customers.json'\n",
    "\n",
    "with open(json_file, 'w') as file:\n",
    "    json.dump(json_detail, file, indent=4)\n",
    "    print('file converted')"
   ]
  },
  {
   "cell_type": "markdown",
   "id": "aa6f4389",
   "metadata": {},
   "source": [
    "### Configuring Python Connector to KAFKA"
   ]
  },
  {
   "cell_type": "code",
   "execution_count": 5,
   "id": "95224372",
   "metadata": {},
   "outputs": [],
   "source": [
    "def read_config():\n",
    "  # reads the client configuration from client.properties\n",
    "  # and returns it as a key-value map\n",
    "  config = {}\n",
    "  with open(\"client.properties\") as fh:\n",
    "    for line in fh:\n",
    "      line = line.strip()\n",
    "      if len(line) != 0 and line[0] != \"#\":\n",
    "        parameter, value = line.strip().split('=', 1)\n",
    "        config[parameter] = value.strip()\n",
    "  return config\n",
    "\n",
    "config = read_config()\n",
    "producer = Producer(config)"
   ]
  },
  {
   "cell_type": "markdown",
   "id": "be294e3e",
   "metadata": {},
   "source": [
    "### Converting Dictionary files into Byte type file"
   ]
  },
  {
   "cell_type": "code",
   "execution_count": 6,
   "id": "8b4987fd",
   "metadata": {},
   "outputs": [
    {
     "name": "stdout",
     "output_type": "stream",
     "text": [
      "0 {'customer_id': 0, 'name': 'Customer_0', 'city': 'Pune', 'state': 'Maharashtra', 'country': 'India', 'registration_date': '2023-06-29', 'is_active': False}\n"
     ]
    }
   ],
   "source": [
    "topic = 'ecommerce'\n",
    "\n",
    "with open('customers.json', 'r') as file:\n",
    "    customers_data = json.load(file)\n",
    "\n",
    "value = customers_data[0]\n",
    "key = value['customer_id']\n",
    "print(key, value)\n",
    "\n",
    "value = str(value).encode('utf-8')\n",
    "key = str(key).encode('utf-8')"
   ]
  },
  {
   "cell_type": "markdown",
   "id": "7294c243",
   "metadata": {},
   "source": [
    "### Sending Single Data as Key Value pair onto KAFKA (Streaming)"
   ]
  },
  {
   "cell_type": "code",
   "execution_count": 7,
   "id": "28b85566",
   "metadata": {},
   "outputs": [],
   "source": [
    "producer.produce(topic, key=key, value=value)"
   ]
  },
  {
   "cell_type": "markdown",
   "id": "6987d878",
   "metadata": {},
   "source": [
    "### Sending multiple messages to KAFKA Cluster"
   ]
  },
  {
   "cell_type": "code",
   "execution_count": null,
   "id": "2571f962",
   "metadata": {},
   "outputs": [],
   "source": [
    "topic = 'ecommerce'\n",
    "\n",
    "def deliver_status(err, msg):\n",
    "    if (err):\n",
    "        print(f'Message delivery failed: {err}')\n",
    "    else:\n",
    "        print(f'Message delivered to {msg.topic()} [{msg.partition()}] at offset [{msg.offset()}]')\n",
    "\n",
    "for record in customers_data:\n",
    "    try:\n",
    "        message_value = json.dumps(record)\n",
    "        message_key = str(int(record['customer_id']) + 10).encode('utf-8')\n",
    "\n",
    "        producer.produce(topic, key=message_key, value=message_value, callback = deliver_status)\n",
    "        producer.poll(1)\n",
    "\n",
    "    except Exception as e:\n",
    "        print(f'Error sending messages: {e}')\n",
    "\n",
    "producer.flush()\n",
    "\n",
    "print('Message send to KAFKA Cluster Successfully')"
   ]
  }
 ],
 "metadata": {
  "kernelspec": {
   "display_name": ".venv",
   "language": "python",
   "name": "python3"
  },
  "language_info": {
   "codemirror_mode": {
    "name": "ipython",
    "version": 3
   },
   "file_extension": ".py",
   "mimetype": "text/x-python",
   "name": "python",
   "nbconvert_exporter": "python",
   "pygments_lexer": "ipython3",
   "version": "3.13.7"
  }
 },
 "nbformat": 4,
 "nbformat_minor": 5
}
