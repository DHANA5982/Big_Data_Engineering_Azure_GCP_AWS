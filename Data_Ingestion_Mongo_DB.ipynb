{
 "cells": [
  {
   "cell_type": "markdown",
   "id": "ccfef5b5",
   "metadata": {},
   "source": [
    "# Data Ingestion to Mongo DB\n",
    "\n",
    "- Create connection to Mongo Database provided by Filess.io\n",
    "\n",
    "- Create collection to send the olist ecommerce data\n",
    "\n",
    "- Insert data into collection in Mongo Database"
   ]
  },
  {
   "cell_type": "code",
   "execution_count": 5,
   "id": "e71fe004",
   "metadata": {},
   "outputs": [
    {
     "name": "stdout",
     "output_type": "stream",
     "text": [
      "Data uploaded to Mongo DB successfully\n",
      "Mongo DB Connection Closed\n"
     ]
    }
   ],
   "source": [
    "# Importing modules\n",
    "import pandas as pd\n",
    "from pymongo import MongoClient\n",
    "\n",
    "# Load the file\n",
    "try:\n",
    "    df = pd.read_csv('data/raw/product_category_name_translation.csv')\n",
    "except Exception as e:\n",
    "    print(f'Error loading the file: {e}')\n",
    "    exit()\n",
    "\n",
    "# Mongo DB connection details\n",
    "hostname = \"zzw9d7.h.filess.io\"\n",
    "database = \"OlistEcommerceNoSQL_thanhuntso\"\n",
    "port = \"61004\"\n",
    "username = \"OlistEcommerceNoSQL_thanhuntso\"\n",
    "password = \"66bed16cddc5355a50a358e4fa78f52e1d84ecf8\"\n",
    "\n",
    "uri = \"mongodb://\" + username + \":\" + password + \"@\" + hostname + \":\" + port + \"/\" + database\n",
    "\n",
    "try:\n",
    "    # Connect with the portnumber and host\n",
    "    client = MongoClient(uri)\n",
    "\n",
    "    # Access database\n",
    "    mydatabase = client[database]\n",
    "\n",
    "    # Select the collection\n",
    "    collection = mydatabase['product_category_name_translation']\n",
    "\n",
    "    # convert the dataframe to a list of dictionaries for insertion into Mongo DB\n",
    "    list_of_data = df.to_dict(orient='records')\n",
    "\n",
    "    # Insert the data into collections\n",
    "    collection.insert_many(list_of_data)\n",
    "\n",
    "    print('Data uploaded to Mongo DB successfully')\n",
    "\n",
    "except Exception as e:\n",
    "    print(f'An error occured: {e}')\n",
    "\n",
    "finally:\n",
    "    if client:\n",
    "        client.close()\n",
    "        print('Mongo DB Connection Closed')"
   ]
  }
 ],
 "metadata": {
  "kernelspec": {
   "display_name": ".venv",
   "language": "python",
   "name": "python3"
  },
  "language_info": {
   "codemirror_mode": {
    "name": "ipython",
    "version": 3
   },
   "file_extension": ".py",
   "mimetype": "text/x-python",
   "name": "python",
   "nbconvert_exporter": "python",
   "pygments_lexer": "ipython3",
   "version": "3.13.7"
  }
 },
 "nbformat": 4,
 "nbformat_minor": 5
}
